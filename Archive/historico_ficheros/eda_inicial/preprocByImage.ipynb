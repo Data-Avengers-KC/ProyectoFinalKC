{
 "cells": [
  {
   "cell_type": "markdown",
   "id": "f431e3a1-45c0-4047-847d-cd19354ef532",
   "metadata": {},
   "source": [
    "### Preprocesado por imagen (paciente -> imagen)"
   ]
  },
  {
   "cell_type": "markdown",
   "id": "aeed0925-ecd1-4060-9b80-292bdc5bb896",
   "metadata": {},
   "source": [
    "El objetivo es convertir el dataset inicial con la información organizada por pacientes (dos imágenes por entrada) a un formato en el que haya una imagen por fila. Para que las anotaciones de las enfermedades sea correcta para cada imagen, se deben tener en cuenta las 'keywords' anotadas en cada ojo. Se tendrá que ver para cada enfermedad cuales son las 'keywords' utilizadas y asignar el diagnóstico para cada ojo en función de la presencia de estas 'keywords'."
   ]
  },
  {
   "cell_type": "code",
   "execution_count": 1,
   "id": "95816982",
   "metadata": {},
   "outputs": [],
   "source": [
    "import pandas as pd\n",
    "import numpy as np\n",
    "import matplotlib.pyplot as plt\n",
    "import seaborn as sns\n",
    "import re\n",
    "from scipy.stats import ttest_ind\n",
    "from scipy.stats import chi2_contingency"
   ]
  },
  {
   "cell_type": "code",
   "execution_count": 2,
   "id": "5ef20627-7f6e-4a69-bba9-7bc5b270d858",
   "metadata": {},
   "outputs": [],
   "source": [
    "df = pd.read_excel('data.xlsx')"
   ]
  },
  {
   "cell_type": "markdown",
   "id": "167413c4-5e6e-4b56-bf1b-59a765816ab6",
   "metadata": {},
   "source": [
    "#### Columna 'D'"
   ]
  },
  {
   "cell_type": "markdown",
   "id": "8504956c-a9cf-4989-888a-9385a47309af",
   "metadata": {},
   "source": [
    "Se buscan las 'keywords' que se asocian con la enfermedad D."
   ]
  },
  {
   "cell_type": "code",
   "execution_count": 3,
   "id": "179ad317-849f-468a-84ee-3369801c3263",
   "metadata": {},
   "outputs": [],
   "source": [
    "# most common keywords for diagnostic 'D' == 1"
   ]
  },
  {
   "cell_type": "code",
   "execution_count": 3,
   "id": "04319fc5-f3d9-4c50-8eb2-40b12ae3ba13",
   "metadata": {},
   "outputs": [],
   "source": [
    "# make columns with list of keywords (left/rigth)\n",
    "# split by chinese comma o normal comma\n",
    "df['left_keywords'] = df['Left-Diagnostic Keywords'].str.split(r'[,\\uFF0C]', regex=True)\n",
    "df['right_keywords'] = df['Right-Diagnostic Keywords'].str.split(r'[,\\uFF0C]', regex=True)\n",
    "# make a column with list of keywords in left and right\n",
    "df['keywords'] = df['left_keywords'] + df['right_keywords']"
   ]
  },
  {
   "cell_type": "markdown",
   "id": "0b29b59e-abf5-4406-a474-cc4164e3dcf7",
   "metadata": {},
   "source": [
    "Las cuatro más comunes, a excepción de 'normal fundus' están asociadas con D."
   ]
  },
  {
   "cell_type": "code",
   "execution_count": 4,
   "id": "b2d7eeb3-180e-4095-b71c-71ba81fedba9",
   "metadata": {},
   "outputs": [
    {
     "name": "stdout",
     "output_type": "stream",
     "text": [
      "keywords\n",
      "moderate non proliferative retinopathy    997\n",
      "mild nonproliferative retinopathy         552\n",
      "normal fundus                             257\n",
      "severe nonproliferative retinopathy       161\n",
      "hypertensive retinopathy                   85\n",
      "laser spot                                 81\n",
      "macular epiretinal membrane                67\n",
      "epiretinal membrane                        65\n",
      "diabetic retinopathy                       56\n",
      "lens dust                                  48\n",
      "Name: count, dtype: int64\n"
     ]
    }
   ],
   "source": [
    "# keywords that appear with 'D'==1\n",
    "# top 10 most frequent list\n",
    "keywords_D = df[df['D'] == 1]['keywords'].explode().value_counts()\n",
    "print(keywords_D.head(10))\n",
    "# select keywords with most 100 occurrences (related to D == 1)\n",
    "keywords_D_lst = list(keywords_D.index[keywords_D > 100])\n",
    "# remove 'normal fundus'\n",
    "keywords_D_lst.remove('normal fundus')"
   ]
  },
  {
   "cell_type": "markdown",
   "id": "0939521d-64a0-469f-92be-f6fc8f74764b",
   "metadata": {},
   "source": [
    "Existen otras seis 'keywords' que también están asociadas con D. Se incorporan a la lista `keywords_D_lst`."
   ]
  },
  {
   "cell_type": "code",
   "execution_count": 5,
   "id": "748d828b-c867-40d8-8e4d-65d580fdf465",
   "metadata": {},
   "outputs": [
    {
     "name": "stdout",
     "output_type": "stream",
     "text": [
      "Number patients with D annotated as 1 but without keyword: 47\n"
     ]
    },
    {
     "data": {
      "text/html": [
       "<div>\n",
       "<style scoped>\n",
       "    .dataframe tbody tr th:only-of-type {\n",
       "        vertical-align: middle;\n",
       "    }\n",
       "\n",
       "    .dataframe tbody tr th {\n",
       "        vertical-align: top;\n",
       "    }\n",
       "\n",
       "    .dataframe thead th {\n",
       "        text-align: right;\n",
       "    }\n",
       "</style>\n",
       "<table border=\"1\" class=\"dataframe\">\n",
       "  <thead>\n",
       "    <tr style=\"text-align: right;\">\n",
       "      <th></th>\n",
       "      <th>left_keywords</th>\n",
       "      <th>right_keywords</th>\n",
       "    </tr>\n",
       "  </thead>\n",
       "  <tbody>\n",
       "    <tr>\n",
       "      <th>64</th>\n",
       "      <td>[diabetic retinopathy]</td>\n",
       "      <td>[macular epiretinal membrane, diabetic retinop...</td>\n",
       "    </tr>\n",
       "    <tr>\n",
       "      <th>67</th>\n",
       "      <td>[diabetic retinopathy]</td>\n",
       "      <td>[diabetic retinopathy]</td>\n",
       "    </tr>\n",
       "    <tr>\n",
       "      <th>71</th>\n",
       "      <td>[diabetic retinopathy]</td>\n",
       "      <td>[wet age-related macular degeneration, diabeti...</td>\n",
       "    </tr>\n",
       "    <tr>\n",
       "      <th>108</th>\n",
       "      <td>[retinal pigment epithelium atrophy, diabetic ...</td>\n",
       "      <td>[normal fundus]</td>\n",
       "    </tr>\n",
       "    <tr>\n",
       "      <th>120</th>\n",
       "      <td>[proliferative diabetic retinopathy, hypertens...</td>\n",
       "      <td>[proliferative diabetic retinopathy, hypertens...</td>\n",
       "    </tr>\n",
       "  </tbody>\n",
       "</table>\n",
       "</div>"
      ],
      "text/plain": [
       "                                         left_keywords  \\\n",
       "64                              [diabetic retinopathy]   \n",
       "67                              [diabetic retinopathy]   \n",
       "71                              [diabetic retinopathy]   \n",
       "108  [retinal pigment epithelium atrophy, diabetic ...   \n",
       "120  [proliferative diabetic retinopathy, hypertens...   \n",
       "\n",
       "                                        right_keywords  \n",
       "64   [macular epiretinal membrane, diabetic retinop...  \n",
       "67                              [diabetic retinopathy]  \n",
       "71   [wet age-related macular degeneration, diabeti...  \n",
       "108                                    [normal fundus]  \n",
       "120  [proliferative diabetic retinopathy, hypertens...  "
      ]
     },
     "execution_count": 5,
     "metadata": {},
     "output_type": "execute_result"
    }
   ],
   "source": [
    "# check for patients D==1 and without keywords_D described above\n",
    "df['keywords_D'] = df['keywords'].apply(lambda x: any(item in keywords_D_lst for item in x))\n",
    "print(f\"Number patients with D annotated as 1 but without keyword: {df[~df['keywords_D'] & df['D'] == 1].shape[0]}\")\n",
    "df[~df['keywords_D'] & df['D'] == 1][['left_keywords','right_keywords']].head(5)"
   ]
  },
  {
   "cell_type": "code",
   "execution_count": 5,
   "id": "87af0903-d8be-48d5-8bcf-7d9cb17b6845",
   "metadata": {},
   "outputs": [
    {
     "name": "stdout",
     "output_type": "stream",
     "text": [
      "['moderate non proliferative retinopathy', 'mild nonproliferative retinopathy', 'severe nonproliferative retinopathy', 'diabetic retinopathy', 'proliferative diabetic retinopathy', 'severe proliferative diabetic retinopathy', 'suspicious diabetic retinopathy', 'suspected diabetic retinopathy', 'suspected moderate non proliferative retinopathy']\n",
      "Number patients with D annotated as 1 but without keyword: 0\n"
     ]
    }
   ],
   "source": [
    "# add extra also related to D == 1\n",
    "keywords_D_lst.append('diabetic retinopathy')\n",
    "keywords_D_lst.append('proliferative diabetic retinopathy')\n",
    "keywords_D_lst.append('severe proliferative diabetic retinopathy')\n",
    "keywords_D_lst.append('suspicious diabetic retinopathy')\n",
    "keywords_D_lst.append('suspected diabetic retinopathy')\n",
    "keywords_D_lst.append('suspected moderate non proliferative retinopathy')\n",
    "# Total list of keywords\n",
    "print(keywords_D_lst)\n",
    "df['keywords_D'] = df['keywords'].apply(lambda x: any(item in keywords_D_lst for item in x))\n",
    "print(f\"Number patients with D annotated as 1 but without keyword: {df[~df['keywords_D'] & df['D'] == 1].shape[0]}\")"
   ]
  },
  {
   "cell_type": "markdown",
   "id": "672f6ce3-4410-4d70-be51-d9518931e767",
   "metadata": {},
   "source": [
    "Se convierte el dataset original. En vez de estar organizado por paciente, se organizan los datos por imagen. El dataframe con la información necesaria se guarda en ."
   ]
  },
  {
   "cell_type": "code",
   "execution_count": 6,
   "id": "f2a28d4c-cc58-49ad-9b66-8541ac562cee",
   "metadata": {},
   "outputs": [],
   "source": [
    "# dataframe by eyes images with annotation D_eye 0/1\n",
    "def patient_to_eye(df, image_col, keywords_col, disease_col, keywords):\n",
    "    \"\"\"\n",
    "    Converts patient-level data to eye-level data based on keywords and disease status.\n",
    "    \n",
    "    Args:\n",
    "        df (pd.DataFrame): Input DataFrame containing patient data.\n",
    "        image_col (str): Name of the column containing fundus/image data.\n",
    "        keywords_col (str): Name of the column with keyword lists\n",
    "        disease_col (str): Name of the column indicating disease presence\n",
    "        keywords (list): List of keywords related to disease to match\n",
    "\n",
    "    Returns:\n",
    "        pd.DataFrame: Transformed DataFrame with columns:\n",
    "            - 'Patient Sex' (original)\n",
    "            - 'Patient Age' (original)\n",
    "            - 'Fundus' (renamed from image_col)\n",
    "            - '[disease_col]_eye' (binary column, 1 = disease + keyword match)\n",
    "    \"\"\"\n",
    "    columns = ['Patient Sex', 'Patient Age', image_col, keywords_col, disease_col]\n",
    "    df_sel = df[columns].copy()\n",
    "    disease_col_eye = disease_col + '_eye'\n",
    "    df_sel[disease_col_eye] = [1 if x else 0 for x in (df_sel[disease_col] == 1) & (df_sel[keywords_col].apply(lambda x: any(item in keywords for item in x)))]\n",
    "    df_sel = df_sel.drop([keywords_col, disease_col], axis=1)\n",
    "    df_sel.columns = ['Patient Sex', 'Patient Age', 'Fundus', disease_col_eye]\n",
    "    return df_sel\n",
    "    \n",
    "keywords_D_lst = ['moderate non proliferative retinopathy', 'mild nonproliferative retinopathy', \n",
    "                  'severe nonproliferative retinopathy', 'diabetic retinopathy', \n",
    "                  'proliferative diabetic retinopathy', 'severe proliferative diabetic retinopathy', \n",
    "                  'suspicious diabetic retinopathy', 'suspected diabetic retinopathy', \n",
    "                  'suspected moderate non proliferative retinopathy', 'diabetic retinopathy', \n",
    "                  'proliferative diabetic retinopathy', 'severe proliferative diabetic retinopathy', \n",
    "                  'suspicious diabetic retinopathy', 'suspected diabetic retinopathy', \n",
    "                  'suspected moderate non proliferative retinopathy']\n",
    "df_left = patient_to_eye(df, 'Left-Fundus', 'left_keywords', 'D', keywords_D_lst)\n",
    "df_right = patient_to_eye(df, 'Right-Fundus', 'right_keywords', 'D', keywords_D_lst)\n",
    "df_eye = pd.concat([df_left, df_right])\n",
    "#print(df_eye)\n",
    "df_eye.to_csv(\"data_eye_D.csv\")\n",
    "    "
   ]
  },
  {
   "cell_type": "code",
   "execution_count": null,
   "id": "4c7b0521-5559-4f3c-87c1-cce4dd8a969a",
   "metadata": {},
   "outputs": [],
   "source": []
  }
 ],
 "metadata": {
  "kernelspec": {
   "display_name": "Python 3",
   "language": "python",
   "name": "python3"
  },
  "language_info": {
   "codemirror_mode": {
    "name": "ipython",
    "version": 3
   },
   "file_extension": ".py",
   "mimetype": "text/x-python",
   "name": "python",
   "nbconvert_exporter": "python",
   "pygments_lexer": "ipython3",
   "version": "3.11.9"
  }
 },
 "nbformat": 4,
 "nbformat_minor": 5
}
