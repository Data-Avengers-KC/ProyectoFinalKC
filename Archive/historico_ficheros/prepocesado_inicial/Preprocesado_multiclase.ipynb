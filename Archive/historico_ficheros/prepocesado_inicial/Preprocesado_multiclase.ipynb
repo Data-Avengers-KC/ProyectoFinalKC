{
 "cells": [
  {
   "cell_type": "markdown",
   "id": "32a3a19b-499b-40b6-849c-41f15f127802",
   "metadata": {},
   "source": [
    "### Importación de librerías\n",
    "\n",
    "Importamos las librerías necesarias para el procesamiento y análisis de datos:\n",
    "\n",
    "- `pandas`: utilizado para la manipulación de datos en estructuras tipo DataFrame.\n",
    "- `numpy`: proporciona funciones numéricas y estructuras de datos eficientes.\n",
    "- `polars`: alternativa a pandas, optimizada para velocidad y procesamiento columnar.\n",
    "- `itertools.chain`: para concatenar iterables de forma eficiente.\n",
    "- `re`: módulo de expresiones regulares para procesamiento y limpieza de texto.\n",
    "- `seaborn`: biblioteca para visualización de datos basada en Matplotlib.\n",
    "- `matplotlib.pyplot`: módulo principal de Matplotlib para crear gráficos 2D."
   ]
  },
  {
   "cell_type": "code",
   "execution_count": 2,
   "id": "68daf204-7eaa-4c7d-a7b7-23e6a7fe4b4b",
   "metadata": {},
   "outputs": [
    {
     "name": "stdout",
     "output_type": "stream",
     "text": [
      "Requirement already satisfied: polars in c:\\users\\javil\\anaconda3\\envs\\bd15-despliegue-algo\\lib\\site-packages (1.32.3)\n"
     ]
    }
   ],
   "source": [
    "!pip install polars"
   ]
  },
  {
   "cell_type": "code",
   "execution_count": 3,
   "id": "6e49affd",
   "metadata": {},
   "outputs": [],
   "source": [
    "import pandas as pd\n",
    "import numpy as np\n",
    "import polars as pl\n",
    "from itertools import chain\n",
    "import re\n",
    "import seaborn as sns\n",
    "import matplotlib.pyplot as plt"
   ]
  },
  {
   "cell_type": "markdown",
   "id": "5bc66c3d-8b2e-4a66-b82e-8eeb8e3fa4b9",
   "metadata": {},
   "source": [
    "## Carga de datos\n",
    "\n",
    "Cargamos el dataset en excel utilizando `pandas` para hacer el preprocesado y hacemos una vista general."
   ]
  },
  {
   "cell_type": "code",
   "execution_count": 5,
   "id": "24bf85a8",
   "metadata": {},
   "outputs": [],
   "source": [
    "df = pd.read_csv('../../Data/csv/full_df.csv')"
   ]
  },
  {
   "cell_type": "code",
   "execution_count": 6,
   "id": "77139309",
   "metadata": {},
   "outputs": [
    {
     "data": {
      "text/html": [
       "<div>\n",
       "<style scoped>\n",
       "    .dataframe tbody tr th:only-of-type {\n",
       "        vertical-align: middle;\n",
       "    }\n",
       "\n",
       "    .dataframe tbody tr th {\n",
       "        vertical-align: top;\n",
       "    }\n",
       "\n",
       "    .dataframe thead th {\n",
       "        text-align: right;\n",
       "    }\n",
       "</style>\n",
       "<table border=\"1\" class=\"dataframe\">\n",
       "  <thead>\n",
       "    <tr style=\"text-align: right;\">\n",
       "      <th></th>\n",
       "      <th>ID</th>\n",
       "      <th>Patient Age</th>\n",
       "      <th>Patient Sex</th>\n",
       "      <th>Left-Fundus</th>\n",
       "      <th>Right-Fundus</th>\n",
       "      <th>Left-Diagnostic Keywords</th>\n",
       "      <th>Right-Diagnostic Keywords</th>\n",
       "      <th>N</th>\n",
       "      <th>D</th>\n",
       "      <th>G</th>\n",
       "      <th>C</th>\n",
       "      <th>A</th>\n",
       "      <th>H</th>\n",
       "      <th>M</th>\n",
       "      <th>O</th>\n",
       "      <th>filepath</th>\n",
       "      <th>labels</th>\n",
       "      <th>target</th>\n",
       "      <th>filename</th>\n",
       "    </tr>\n",
       "  </thead>\n",
       "  <tbody>\n",
       "    <tr>\n",
       "      <th>0</th>\n",
       "      <td>0</td>\n",
       "      <td>69</td>\n",
       "      <td>Female</td>\n",
       "      <td>0_left.jpg</td>\n",
       "      <td>0_right.jpg</td>\n",
       "      <td>cataract</td>\n",
       "      <td>normal fundus</td>\n",
       "      <td>0</td>\n",
       "      <td>0</td>\n",
       "      <td>0</td>\n",
       "      <td>1</td>\n",
       "      <td>0</td>\n",
       "      <td>0</td>\n",
       "      <td>0</td>\n",
       "      <td>0</td>\n",
       "      <td>../input/ocular-disease-recognition-odir5k/ODI...</td>\n",
       "      <td>['N']</td>\n",
       "      <td>[1, 0, 0, 0, 0, 0, 0, 0]</td>\n",
       "      <td>0_right.jpg</td>\n",
       "    </tr>\n",
       "  </tbody>\n",
       "</table>\n",
       "</div>"
      ],
      "text/plain": [
       "   ID  Patient Age Patient Sex Left-Fundus Right-Fundus  \\\n",
       "0   0           69      Female  0_left.jpg  0_right.jpg   \n",
       "\n",
       "  Left-Diagnostic Keywords Right-Diagnostic Keywords  N  D  G  C  A  H  M  O  \\\n",
       "0                 cataract             normal fundus  0  0  0  1  0  0  0  0   \n",
       "\n",
       "                                            filepath labels  \\\n",
       "0  ../input/ocular-disease-recognition-odir5k/ODI...  ['N']   \n",
       "\n",
       "                     target     filename  \n",
       "0  [1, 0, 0, 0, 0, 0, 0, 0]  0_right.jpg  "
      ]
     },
     "execution_count": 6,
     "metadata": {},
     "output_type": "execute_result"
    }
   ],
   "source": [
    "df.head(1)"
   ]
  },
  {
   "cell_type": "markdown",
   "id": "5624df37",
   "metadata": {},
   "source": [
    "### Listado de tareas de preprocesamiento\n",
    "\n",
    "A continuación se resumen los pasos clave para preparar el dataset antes del análisis o modelado:\n",
    "\n",
    "- **ID**: eliminar esta columna porque es solo un identificador único que no aporta información predictiva.\n",
    "\n",
    "- **Patient Sex**: transformar a variable binaria para que el modelo pueda interpretarla fácilmente.\n",
    "\n",
    "- **Left-Fundus** y **Right-Fundus**: crearemos otra columna en la que nos indicará si se trata del ojo derecho o izquierdo.\n",
    "\n",
    "- **Left-Diagnostic Keywords** y **Right-Diagnostic Keywords**: consideramos eliminar estas columnas ya que vamos a crear una columna que indicara la enfermedad por ojo de forma individual.\n",
    "\n",
    "- **N, D, G, C, A, H, M, O**: estas columnas corresponden a las clases objetivo (target) para la predicción, se eliminaran ya que tenemos la información en `labels`.\n",
    "\n",
    "- **filepath** y **target**: después de nuestro planteamiento estas columnas pueden ser eliminadas ya que no tienen más valor.  \n",
    "\n",
    "- **labels**: tras considerarlo, se usará `label encoder` para crear un código del target para cada enfermedad considerando que es buena opción y que no afectará a la hora de entrenar el modelo.\n",
    "\n",
    "- **filename**: nos lo quedamos como referencia de que ojo se trata.\n",
    " "
   ]
  },
  {
   "cell_type": "code",
   "execution_count": 7,
   "id": "aa672364",
   "metadata": {},
   "outputs": [
    {
     "name": "stdout",
     "output_type": "stream",
     "text": [
      "<class 'pandas.core.frame.DataFrame'>\n",
      "RangeIndex: 6392 entries, 0 to 6391\n",
      "Data columns (total 19 columns):\n",
      " #   Column                     Non-Null Count  Dtype \n",
      "---  ------                     --------------  ----- \n",
      " 0   ID                         6392 non-null   int64 \n",
      " 1   Patient Age                6392 non-null   int64 \n",
      " 2   Patient Sex                6392 non-null   object\n",
      " 3   Left-Fundus                6392 non-null   object\n",
      " 4   Right-Fundus               6392 non-null   object\n",
      " 5   Left-Diagnostic Keywords   6392 non-null   object\n",
      " 6   Right-Diagnostic Keywords  6392 non-null   object\n",
      " 7   N                          6392 non-null   int64 \n",
      " 8   D                          6392 non-null   int64 \n",
      " 9   G                          6392 non-null   int64 \n",
      " 10  C                          6392 non-null   int64 \n",
      " 11  A                          6392 non-null   int64 \n",
      " 12  H                          6392 non-null   int64 \n",
      " 13  M                          6392 non-null   int64 \n",
      " 14  O                          6392 non-null   int64 \n",
      " 15  filepath                   6392 non-null   object\n",
      " 16  labels                     6392 non-null   object\n",
      " 17  target                     6392 non-null   object\n",
      " 18  filename                   6392 non-null   object\n",
      "dtypes: int64(10), object(9)\n",
      "memory usage: 948.9+ KB\n"
     ]
    }
   ],
   "source": [
    "df.info()"
   ]
  },
  {
   "cell_type": "markdown",
   "id": "4caca847-959d-45b3-af1e-9785c590a33b",
   "metadata": {},
   "source": [
    "#### Transformamos `Patient_Sex_Binario` a binario"
   ]
  },
  {
   "cell_type": "code",
   "execution_count": 8,
   "id": "4a44f37f",
   "metadata": {},
   "outputs": [],
   "source": [
    "#Transformar a binario el campo Patient Sex\n",
    "df['Patient_Sex_Binario'] = df['Patient Sex'].map({'Male': 1, \"Female\": 0})\n"
   ]
  },
  {
   "cell_type": "code",
   "execution_count": 9,
   "id": "9649e7d6",
   "metadata": {},
   "outputs": [
    {
     "data": {
      "text/plain": [
       "0    0\n",
       "1    1\n",
       "2    1\n",
       "3    1\n",
       "4    0\n",
       "5    1\n",
       "6    0\n",
       "7    1\n",
       "8    1\n",
       "9    1\n",
       "Name: Patient_Sex_Binario, dtype: int64"
      ]
     },
     "execution_count": 9,
     "metadata": {},
     "output_type": "execute_result"
    }
   ],
   "source": [
    "df.Patient_Sex_Binario.head(10)"
   ]
  },
  {
   "cell_type": "code",
   "execution_count": 10,
   "id": "47f3e0de",
   "metadata": {},
   "outputs": [],
   "source": [
    "df.drop(columns=['Patient Sex'], inplace=True)"
   ]
  },
  {
   "cell_type": "code",
   "execution_count": 11,
   "id": "e6c0e5dc",
   "metadata": {},
   "outputs": [
    {
     "name": "stdout",
     "output_type": "stream",
     "text": [
      "<class 'pandas.core.frame.DataFrame'>\n",
      "RangeIndex: 6392 entries, 0 to 6391\n",
      "Data columns (total 19 columns):\n",
      " #   Column                     Non-Null Count  Dtype \n",
      "---  ------                     --------------  ----- \n",
      " 0   ID                         6392 non-null   int64 \n",
      " 1   Patient Age                6392 non-null   int64 \n",
      " 2   Left-Fundus                6392 non-null   object\n",
      " 3   Right-Fundus               6392 non-null   object\n",
      " 4   Left-Diagnostic Keywords   6392 non-null   object\n",
      " 5   Right-Diagnostic Keywords  6392 non-null   object\n",
      " 6   N                          6392 non-null   int64 \n",
      " 7   D                          6392 non-null   int64 \n",
      " 8   G                          6392 non-null   int64 \n",
      " 9   C                          6392 non-null   int64 \n",
      " 10  A                          6392 non-null   int64 \n",
      " 11  H                          6392 non-null   int64 \n",
      " 12  M                          6392 non-null   int64 \n",
      " 13  O                          6392 non-null   int64 \n",
      " 14  filepath                   6392 non-null   object\n",
      " 15  labels                     6392 non-null   object\n",
      " 16  target                     6392 non-null   object\n",
      " 17  filename                   6392 non-null   object\n",
      " 18  Patient_Sex_Binario        6392 non-null   int64 \n",
      "dtypes: int64(11), object(8)\n",
      "memory usage: 948.9+ KB\n"
     ]
    }
   ],
   "source": [
    "df.info()"
   ]
  },
  {
   "cell_type": "markdown",
   "id": "1f0fecac",
   "metadata": {},
   "source": [
    "- opcional crear columna categorica con la cantidad de enfermedades.\n",
    "- opcional crear columna Binaria con si es lens dust o no 0/1"
   ]
  },
  {
   "cell_type": "code",
   "execution_count": 12,
   "id": "8d043e34",
   "metadata": {},
   "outputs": [
    {
     "data": {
      "text/html": [
       "<div>\n",
       "<style scoped>\n",
       "    .dataframe tbody tr th:only-of-type {\n",
       "        vertical-align: middle;\n",
       "    }\n",
       "\n",
       "    .dataframe tbody tr th {\n",
       "        vertical-align: top;\n",
       "    }\n",
       "\n",
       "    .dataframe thead th {\n",
       "        text-align: right;\n",
       "    }\n",
       "</style>\n",
       "<table border=\"1\" class=\"dataframe\">\n",
       "  <thead>\n",
       "    <tr style=\"text-align: right;\">\n",
       "      <th></th>\n",
       "      <th>ID</th>\n",
       "      <th>Patient Age</th>\n",
       "      <th>Left-Fundus</th>\n",
       "      <th>Right-Fundus</th>\n",
       "      <th>Left-Diagnostic Keywords</th>\n",
       "      <th>Right-Diagnostic Keywords</th>\n",
       "      <th>N</th>\n",
       "      <th>D</th>\n",
       "      <th>G</th>\n",
       "      <th>C</th>\n",
       "      <th>A</th>\n",
       "      <th>H</th>\n",
       "      <th>M</th>\n",
       "      <th>O</th>\n",
       "      <th>filepath</th>\n",
       "      <th>labels</th>\n",
       "      <th>target</th>\n",
       "      <th>filename</th>\n",
       "      <th>Patient_Sex_Binario</th>\n",
       "    </tr>\n",
       "  </thead>\n",
       "  <tbody>\n",
       "    <tr>\n",
       "      <th>0</th>\n",
       "      <td>0</td>\n",
       "      <td>69</td>\n",
       "      <td>0_left.jpg</td>\n",
       "      <td>0_right.jpg</td>\n",
       "      <td>cataract</td>\n",
       "      <td>normal fundus</td>\n",
       "      <td>0</td>\n",
       "      <td>0</td>\n",
       "      <td>0</td>\n",
       "      <td>1</td>\n",
       "      <td>0</td>\n",
       "      <td>0</td>\n",
       "      <td>0</td>\n",
       "      <td>0</td>\n",
       "      <td>../input/ocular-disease-recognition-odir5k/ODI...</td>\n",
       "      <td>['N']</td>\n",
       "      <td>[1, 0, 0, 0, 0, 0, 0, 0]</td>\n",
       "      <td>0_right.jpg</td>\n",
       "      <td>0</td>\n",
       "    </tr>\n",
       "    <tr>\n",
       "      <th>1</th>\n",
       "      <td>1</td>\n",
       "      <td>57</td>\n",
       "      <td>1_left.jpg</td>\n",
       "      <td>1_right.jpg</td>\n",
       "      <td>normal fundus</td>\n",
       "      <td>normal fundus</td>\n",
       "      <td>1</td>\n",
       "      <td>0</td>\n",
       "      <td>0</td>\n",
       "      <td>0</td>\n",
       "      <td>0</td>\n",
       "      <td>0</td>\n",
       "      <td>0</td>\n",
       "      <td>0</td>\n",
       "      <td>../input/ocular-disease-recognition-odir5k/ODI...</td>\n",
       "      <td>['N']</td>\n",
       "      <td>[1, 0, 0, 0, 0, 0, 0, 0]</td>\n",
       "      <td>1_right.jpg</td>\n",
       "      <td>1</td>\n",
       "    </tr>\n",
       "    <tr>\n",
       "      <th>2</th>\n",
       "      <td>2</td>\n",
       "      <td>42</td>\n",
       "      <td>2_left.jpg</td>\n",
       "      <td>2_right.jpg</td>\n",
       "      <td>laser spot，moderate non proliferative retinopathy</td>\n",
       "      <td>moderate non proliferative retinopathy</td>\n",
       "      <td>0</td>\n",
       "      <td>1</td>\n",
       "      <td>0</td>\n",
       "      <td>0</td>\n",
       "      <td>0</td>\n",
       "      <td>0</td>\n",
       "      <td>0</td>\n",
       "      <td>1</td>\n",
       "      <td>../input/ocular-disease-recognition-odir5k/ODI...</td>\n",
       "      <td>['D']</td>\n",
       "      <td>[0, 1, 0, 0, 0, 0, 0, 0]</td>\n",
       "      <td>2_right.jpg</td>\n",
       "      <td>1</td>\n",
       "    </tr>\n",
       "    <tr>\n",
       "      <th>3</th>\n",
       "      <td>4</td>\n",
       "      <td>53</td>\n",
       "      <td>4_left.jpg</td>\n",
       "      <td>4_right.jpg</td>\n",
       "      <td>macular epiretinal membrane</td>\n",
       "      <td>mild nonproliferative retinopathy</td>\n",
       "      <td>0</td>\n",
       "      <td>1</td>\n",
       "      <td>0</td>\n",
       "      <td>0</td>\n",
       "      <td>0</td>\n",
       "      <td>0</td>\n",
       "      <td>0</td>\n",
       "      <td>1</td>\n",
       "      <td>../input/ocular-disease-recognition-odir5k/ODI...</td>\n",
       "      <td>['D']</td>\n",
       "      <td>[0, 1, 0, 0, 0, 0, 0, 0]</td>\n",
       "      <td>4_right.jpg</td>\n",
       "      <td>1</td>\n",
       "    </tr>\n",
       "    <tr>\n",
       "      <th>4</th>\n",
       "      <td>5</td>\n",
       "      <td>50</td>\n",
       "      <td>5_left.jpg</td>\n",
       "      <td>5_right.jpg</td>\n",
       "      <td>moderate non proliferative retinopathy</td>\n",
       "      <td>moderate non proliferative retinopathy</td>\n",
       "      <td>0</td>\n",
       "      <td>1</td>\n",
       "      <td>0</td>\n",
       "      <td>0</td>\n",
       "      <td>0</td>\n",
       "      <td>0</td>\n",
       "      <td>0</td>\n",
       "      <td>0</td>\n",
       "      <td>../input/ocular-disease-recognition-odir5k/ODI...</td>\n",
       "      <td>['D']</td>\n",
       "      <td>[0, 1, 0, 0, 0, 0, 0, 0]</td>\n",
       "      <td>5_right.jpg</td>\n",
       "      <td>0</td>\n",
       "    </tr>\n",
       "  </tbody>\n",
       "</table>\n",
       "</div>"
      ],
      "text/plain": [
       "   ID  Patient Age Left-Fundus Right-Fundus  \\\n",
       "0   0           69  0_left.jpg  0_right.jpg   \n",
       "1   1           57  1_left.jpg  1_right.jpg   \n",
       "2   2           42  2_left.jpg  2_right.jpg   \n",
       "3   4           53  4_left.jpg  4_right.jpg   \n",
       "4   5           50  5_left.jpg  5_right.jpg   \n",
       "\n",
       "                            Left-Diagnostic Keywords  \\\n",
       "0                                           cataract   \n",
       "1                                      normal fundus   \n",
       "2  laser spot，moderate non proliferative retinopathy   \n",
       "3                        macular epiretinal membrane   \n",
       "4             moderate non proliferative retinopathy   \n",
       "\n",
       "                Right-Diagnostic Keywords  N  D  G  C  A  H  M  O  \\\n",
       "0                           normal fundus  0  0  0  1  0  0  0  0   \n",
       "1                           normal fundus  1  0  0  0  0  0  0  0   \n",
       "2  moderate non proliferative retinopathy  0  1  0  0  0  0  0  1   \n",
       "3       mild nonproliferative retinopathy  0  1  0  0  0  0  0  1   \n",
       "4  moderate non proliferative retinopathy  0  1  0  0  0  0  0  0   \n",
       "\n",
       "                                            filepath labels  \\\n",
       "0  ../input/ocular-disease-recognition-odir5k/ODI...  ['N']   \n",
       "1  ../input/ocular-disease-recognition-odir5k/ODI...  ['N']   \n",
       "2  ../input/ocular-disease-recognition-odir5k/ODI...  ['D']   \n",
       "3  ../input/ocular-disease-recognition-odir5k/ODI...  ['D']   \n",
       "4  ../input/ocular-disease-recognition-odir5k/ODI...  ['D']   \n",
       "\n",
       "                     target     filename  Patient_Sex_Binario  \n",
       "0  [1, 0, 0, 0, 0, 0, 0, 0]  0_right.jpg                    0  \n",
       "1  [1, 0, 0, 0, 0, 0, 0, 0]  1_right.jpg                    1  \n",
       "2  [0, 1, 0, 0, 0, 0, 0, 0]  2_right.jpg                    1  \n",
       "3  [0, 1, 0, 0, 0, 0, 0, 0]  4_right.jpg                    1  \n",
       "4  [0, 1, 0, 0, 0, 0, 0, 0]  5_right.jpg                    0  "
      ]
     },
     "execution_count": 12,
     "metadata": {},
     "output_type": "execute_result"
    }
   ],
   "source": [
    "df.head(5)           \n"
   ]
  },
  {
   "cell_type": "markdown",
   "id": "b0ebb5c7-692f-4367-ae76-89cb87847941",
   "metadata": {},
   "source": [
    "Eliminamos las columnas que no son necesarias para nuestro dataset final:\n",
    "\n",
    "- `'Left-Diagnostic Keywords'`\n",
    "- `'Right-Diagnostic Keywords'`"
   ]
  },
  {
   "cell_type": "code",
   "execution_count": 13,
   "id": "e0226335",
   "metadata": {},
   "outputs": [],
   "source": [
    "df.drop(columns=['Left-Diagnostic Keywords', 'Right-Diagnostic Keywords'], inplace=True)"
   ]
  },
  {
   "cell_type": "code",
   "execution_count": 14,
   "id": "69de79da",
   "metadata": {},
   "outputs": [
    {
     "name": "stdout",
     "output_type": "stream",
     "text": [
      "<class 'pandas.core.frame.DataFrame'>\n",
      "RangeIndex: 6392 entries, 0 to 6391\n",
      "Data columns (total 17 columns):\n",
      " #   Column               Non-Null Count  Dtype \n",
      "---  ------               --------------  ----- \n",
      " 0   ID                   6392 non-null   int64 \n",
      " 1   Patient Age          6392 non-null   int64 \n",
      " 2   Left-Fundus          6392 non-null   object\n",
      " 3   Right-Fundus         6392 non-null   object\n",
      " 4   N                    6392 non-null   int64 \n",
      " 5   D                    6392 non-null   int64 \n",
      " 6   G                    6392 non-null   int64 \n",
      " 7   C                    6392 non-null   int64 \n",
      " 8   A                    6392 non-null   int64 \n",
      " 9   H                    6392 non-null   int64 \n",
      " 10  M                    6392 non-null   int64 \n",
      " 11  O                    6392 non-null   int64 \n",
      " 12  filepath             6392 non-null   object\n",
      " 13  labels               6392 non-null   object\n",
      " 14  target               6392 non-null   object\n",
      " 15  filename             6392 non-null   object\n",
      " 16  Patient_Sex_Binario  6392 non-null   int64 \n",
      "dtypes: int64(11), object(6)\n",
      "memory usage: 849.1+ KB\n"
     ]
    }
   ],
   "source": [
    "df.info()"
   ]
  },
  {
   "cell_type": "code",
   "execution_count": 15,
   "id": "d533063e",
   "metadata": {},
   "outputs": [],
   "source": [
    "df.drop(columns=['Left-Fundus', 'Right-Fundus','N','D','G','C','A','H','M','O','filepath','target',], inplace=True)"
   ]
  },
  {
   "cell_type": "code",
   "execution_count": 16,
   "id": "eb7f9af6",
   "metadata": {},
   "outputs": [],
   "source": [
    "#nos quedamos con los pacientes mayores de 1 año\n",
    "df = df[df['Patient Age'] > 1]\n"
   ]
  },
  {
   "cell_type": "code",
   "execution_count": 17,
   "id": "38941aff",
   "metadata": {},
   "outputs": [
    {
     "name": "stdout",
     "output_type": "stream",
     "text": [
      "<class 'pandas.core.frame.DataFrame'>\n",
      "Index: 6364 entries, 0 to 6391\n",
      "Data columns (total 5 columns):\n",
      " #   Column               Non-Null Count  Dtype \n",
      "---  ------               --------------  ----- \n",
      " 0   ID                   6364 non-null   int64 \n",
      " 1   Patient Age          6364 non-null   int64 \n",
      " 2   labels               6364 non-null   object\n",
      " 3   filename             6364 non-null   object\n",
      " 4   Patient_Sex_Binario  6364 non-null   int64 \n",
      "dtypes: int64(3), object(2)\n",
      "memory usage: 298.3+ KB\n"
     ]
    }
   ],
   "source": [
    "df.info()"
   ]
  },
  {
   "cell_type": "code",
   "execution_count": 18,
   "id": "279ac7e4",
   "metadata": {},
   "outputs": [],
   "source": [
    "from sklearn.preprocessing import LabelEncoder\n",
    "\n",
    "# Inicializamos el codificador\n",
    "le = LabelEncoder()\n",
    "\n",
    "df['cod_target'] = le.fit_transform(df['labels'])\n"
   ]
  },
  {
   "cell_type": "code",
   "execution_count": 19,
   "id": "a6e5aa27",
   "metadata": {},
   "outputs": [
    {
     "data": {
      "text/html": [
       "<div>\n",
       "<style scoped>\n",
       "    .dataframe tbody tr th:only-of-type {\n",
       "        vertical-align: middle;\n",
       "    }\n",
       "\n",
       "    .dataframe tbody tr th {\n",
       "        vertical-align: top;\n",
       "    }\n",
       "\n",
       "    .dataframe thead th {\n",
       "        text-align: right;\n",
       "    }\n",
       "</style>\n",
       "<table border=\"1\" class=\"dataframe\">\n",
       "  <thead>\n",
       "    <tr style=\"text-align: right;\">\n",
       "      <th></th>\n",
       "      <th>ID</th>\n",
       "      <th>Patient Age</th>\n",
       "      <th>labels</th>\n",
       "      <th>filename</th>\n",
       "      <th>Patient_Sex_Binario</th>\n",
       "      <th>cod_target</th>\n",
       "    </tr>\n",
       "  </thead>\n",
       "  <tbody>\n",
       "    <tr>\n",
       "      <th>0</th>\n",
       "      <td>0</td>\n",
       "      <td>69</td>\n",
       "      <td>['N']</td>\n",
       "      <td>0_right.jpg</td>\n",
       "      <td>0</td>\n",
       "      <td>6</td>\n",
       "    </tr>\n",
       "    <tr>\n",
       "      <th>1</th>\n",
       "      <td>1</td>\n",
       "      <td>57</td>\n",
       "      <td>['N']</td>\n",
       "      <td>1_right.jpg</td>\n",
       "      <td>1</td>\n",
       "      <td>6</td>\n",
       "    </tr>\n",
       "    <tr>\n",
       "      <th>2</th>\n",
       "      <td>2</td>\n",
       "      <td>42</td>\n",
       "      <td>['D']</td>\n",
       "      <td>2_right.jpg</td>\n",
       "      <td>1</td>\n",
       "      <td>2</td>\n",
       "    </tr>\n",
       "    <tr>\n",
       "      <th>3</th>\n",
       "      <td>4</td>\n",
       "      <td>53</td>\n",
       "      <td>['D']</td>\n",
       "      <td>4_right.jpg</td>\n",
       "      <td>1</td>\n",
       "      <td>2</td>\n",
       "    </tr>\n",
       "    <tr>\n",
       "      <th>4</th>\n",
       "      <td>5</td>\n",
       "      <td>50</td>\n",
       "      <td>['D']</td>\n",
       "      <td>5_right.jpg</td>\n",
       "      <td>0</td>\n",
       "      <td>2</td>\n",
       "    </tr>\n",
       "  </tbody>\n",
       "</table>\n",
       "</div>"
      ],
      "text/plain": [
       "   ID  Patient Age labels     filename  Patient_Sex_Binario  cod_target\n",
       "0   0           69  ['N']  0_right.jpg                    0           6\n",
       "1   1           57  ['N']  1_right.jpg                    1           6\n",
       "2   2           42  ['D']  2_right.jpg                    1           2\n",
       "3   4           53  ['D']  4_right.jpg                    1           2\n",
       "4   5           50  ['D']  5_right.jpg                    0           2"
      ]
     },
     "execution_count": 19,
     "metadata": {},
     "output_type": "execute_result"
    }
   ],
   "source": [
    "df.head(5)"
   ]
  },
  {
   "cell_type": "code",
   "execution_count": 20,
   "id": "15406307",
   "metadata": {},
   "outputs": [
    {
     "data": {
      "text/html": [
       "<div>\n",
       "<style scoped>\n",
       "    .dataframe tbody tr th:only-of-type {\n",
       "        vertical-align: middle;\n",
       "    }\n",
       "\n",
       "    .dataframe tbody tr th {\n",
       "        vertical-align: top;\n",
       "    }\n",
       "\n",
       "    .dataframe thead th {\n",
       "        text-align: right;\n",
       "    }\n",
       "</style>\n",
       "<table border=\"1\" class=\"dataframe\">\n",
       "  <thead>\n",
       "    <tr style=\"text-align: right;\">\n",
       "      <th></th>\n",
       "      <th>ID</th>\n",
       "      <th>Patient Age</th>\n",
       "      <th>filename</th>\n",
       "      <th>Patient_Sex_Binario</th>\n",
       "      <th>cod_target</th>\n",
       "    </tr>\n",
       "  </thead>\n",
       "  <tbody>\n",
       "    <tr>\n",
       "      <th>0</th>\n",
       "      <td>0</td>\n",
       "      <td>69</td>\n",
       "      <td>0_right.jpg</td>\n",
       "      <td>0</td>\n",
       "      <td>6</td>\n",
       "    </tr>\n",
       "    <tr>\n",
       "      <th>1</th>\n",
       "      <td>1</td>\n",
       "      <td>57</td>\n",
       "      <td>1_right.jpg</td>\n",
       "      <td>1</td>\n",
       "      <td>6</td>\n",
       "    </tr>\n",
       "    <tr>\n",
       "      <th>2</th>\n",
       "      <td>2</td>\n",
       "      <td>42</td>\n",
       "      <td>2_right.jpg</td>\n",
       "      <td>1</td>\n",
       "      <td>2</td>\n",
       "    </tr>\n",
       "    <tr>\n",
       "      <th>3</th>\n",
       "      <td>4</td>\n",
       "      <td>53</td>\n",
       "      <td>4_right.jpg</td>\n",
       "      <td>1</td>\n",
       "      <td>2</td>\n",
       "    </tr>\n",
       "    <tr>\n",
       "      <th>4</th>\n",
       "      <td>5</td>\n",
       "      <td>50</td>\n",
       "      <td>5_right.jpg</td>\n",
       "      <td>0</td>\n",
       "      <td>2</td>\n",
       "    </tr>\n",
       "  </tbody>\n",
       "</table>\n",
       "</div>"
      ],
      "text/plain": [
       "   ID  Patient Age     filename  Patient_Sex_Binario  cod_target\n",
       "0   0           69  0_right.jpg                    0           6\n",
       "1   1           57  1_right.jpg                    1           6\n",
       "2   2           42  2_right.jpg                    1           2\n",
       "3   4           53  4_right.jpg                    1           2\n",
       "4   5           50  5_right.jpg                    0           2"
      ]
     },
     "execution_count": 20,
     "metadata": {},
     "output_type": "execute_result"
    }
   ],
   "source": [
    "df.drop(columns=['labels'], inplace=True)\n",
    "df.head(5)"
   ]
  },
  {
   "cell_type": "code",
   "execution_count": 21,
   "id": "4af60b13",
   "metadata": {},
   "outputs": [
    {
     "name": "stdout",
     "output_type": "stream",
     "text": [
      "<class 'pandas.core.frame.DataFrame'>\n",
      "Index: 6364 entries, 0 to 6391\n",
      "Data columns (total 5 columns):\n",
      " #   Column               Non-Null Count  Dtype \n",
      "---  ------               --------------  ----- \n",
      " 0   ID                   6364 non-null   int64 \n",
      " 1   Patient Age          6364 non-null   int64 \n",
      " 2   filename             6364 non-null   object\n",
      " 3   Patient_Sex_Binario  6364 non-null   int64 \n",
      " 4   cod_target           6364 non-null   int64 \n",
      "dtypes: int64(4), object(1)\n",
      "memory usage: 298.3+ KB\n"
     ]
    }
   ],
   "source": [
    "df.info()"
   ]
  },
  {
   "cell_type": "markdown",
   "id": "ff1aaf1f-822d-4dd7-8be3-5988d24c57e6",
   "metadata": {},
   "source": [
    "Tenemos las columnas `left_idx` y `right_idx`, que contienen datos en forma de listas.\n",
    "\n",
    "En este caso, **no realizaremos ninguna transformación adicional**, ya que PyTorch permite convertir listas directamente a tensores utilizando `torch.tensor()`:"
   ]
  },
  {
   "cell_type": "markdown",
   "id": "b500d3ac",
   "metadata": {},
   "source": [
    "# Análisis de la Matriz de Correlación\n",
    "\n",
    "Calculamos la matriz de correlación entre las variables numéricas del dataset:\n",
    "\n",
    "- **Patient Age**\n",
    "- **Patient_Sex_Binario**\n",
    "- **cod_target**"
   ]
  },
  {
   "cell_type": "code",
   "execution_count": 22,
   "id": "201ca43f",
   "metadata": {},
   "outputs": [
    {
     "name": "stdout",
     "output_type": "stream",
     "text": [
      "Matriz de correlación:\n",
      "                           ID  Patient Age  Patient_Sex_Binario  cod_target\n",
      "ID                   1.000000    -0.168137             0.056720   -0.137129\n",
      "Patient Age         -0.168137     1.000000            -0.122443   -0.040625\n",
      "Patient_Sex_Binario  0.056720    -0.122443             1.000000   -0.012926\n",
      "cod_target          -0.137129    -0.040625            -0.012926    1.000000\n"
     ]
    },
    {
     "data": {
      "image/png": "[encoded data removed]",
      "text/plain": [
       "<Figure size 640x480 with 2 Axes>"
      ]
     },
     "metadata": {},
     "output_type": "display_data"
    }
   ],
   "source": [
    "numeric_cols = ['ID', 'Patient Age', 'Patient_Sex_Binario', 'cod_target']\n",
    "df_numeric = df[numeric_cols]\n",
    "\n",
    "correlation_matrix = df_numeric.corr()\n",
    "\n",
    "print(\"Matriz de correlación:\")\n",
    "print(correlation_matrix)\n",
    "\n",
    "sns.heatmap(correlation_matrix, annot=True, cmap='coolwarm')\n",
    "plt.title('Matriz de Correlación')\n",
    "plt.show()"
   ]
  },
  {
   "cell_type": "markdown",
   "id": "183f5120",
   "metadata": {},
   "source": [
    "### Resultados\n",
    "\n",
    "- Ninguna de las variables numéricas presenta correlaciones fuertes entre sí.\n",
    "- Como sospechabamos, la columna **ID** no esta aportando información útil, por lo que vamos a eliminarla."
   ]
  },
  {
   "cell_type": "code",
   "execution_count": 23,
   "id": "c118022d",
   "metadata": {},
   "outputs": [
    {
     "data": {
      "text/html": [
       "<div>\n",
       "<style scoped>\n",
       "    .dataframe tbody tr th:only-of-type {\n",
       "        vertical-align: middle;\n",
       "    }\n",
       "\n",
       "    .dataframe tbody tr th {\n",
       "        vertical-align: top;\n",
       "    }\n",
       "\n",
       "    .dataframe thead th {\n",
       "        text-align: right;\n",
       "    }\n",
       "</style>\n",
       "<table border=\"1\" class=\"dataframe\">\n",
       "  <thead>\n",
       "    <tr style=\"text-align: right;\">\n",
       "      <th></th>\n",
       "      <th>Patient Age</th>\n",
       "      <th>filename</th>\n",
       "      <th>Patient_Sex_Binario</th>\n",
       "      <th>cod_target</th>\n",
       "    </tr>\n",
       "  </thead>\n",
       "  <tbody>\n",
       "    <tr>\n",
       "      <th>0</th>\n",
       "      <td>69</td>\n",
       "      <td>0_right.jpg</td>\n",
       "      <td>0</td>\n",
       "      <td>6</td>\n",
       "    </tr>\n",
       "    <tr>\n",
       "      <th>1</th>\n",
       "      <td>57</td>\n",
       "      <td>1_right.jpg</td>\n",
       "      <td>1</td>\n",
       "      <td>6</td>\n",
       "    </tr>\n",
       "    <tr>\n",
       "      <th>2</th>\n",
       "      <td>42</td>\n",
       "      <td>2_right.jpg</td>\n",
       "      <td>1</td>\n",
       "      <td>2</td>\n",
       "    </tr>\n",
       "  </tbody>\n",
       "</table>\n",
       "</div>"
      ],
      "text/plain": [
       "   Patient Age     filename  Patient_Sex_Binario  cod_target\n",
       "0           69  0_right.jpg                    0           6\n",
       "1           57  1_right.jpg                    1           6\n",
       "2           42  2_right.jpg                    1           2"
      ]
     },
     "execution_count": 23,
     "metadata": {},
     "output_type": "execute_result"
    }
   ],
   "source": [
    "df.drop(columns=['ID'], inplace=True)\n",
    "df.head(3)"
   ]
  },
  {
   "cell_type": "markdown",
   "id": "d280cc75-5b52-4f51-8353-ebaf7493c96f",
   "metadata": {},
   "source": [
    "### Guardamos el dataset en formato Parquet\n",
    "\n",
    "Se eligió Parquet por ser un formato óptimo para análisis de datos a escala.\n",
    "\n",
    "- **Eficiente**: ocupa menos espacio que CSV gracias a la compresión columnar.\n",
    "- **Rápido**: permite lectura y escritura más rápida, especialmente al trabajar con columnas específicas.\n",
    "- **Compatible**: ampliamente soportado por pandas, PySpark (que usaremos mas adelante) y otras herramientas de análisis.\n"
   ]
  },
  {
   "cell_type": "code",
   "execution_count": 24,
   "id": "f0d98f9b-5b93-4a12-a4cc-f369a7966547",
   "metadata": {},
   "outputs": [],
   "source": [
    "df_pl = pl.from_pandas(df, rechunk=True)"
   ]
  },
  {
   "cell_type": "code",
   "execution_count": 25,
   "id": "397aa942-25e0-4de9-8985-6ff08e53fb13",
   "metadata": {},
   "outputs": [],
   "source": [
    "df_pl.write_parquet(\n",
    "    \"dataset_meta_ojouni.parquet\",\n",
    "    compression=\"zstd\",        # 'snappy' por defecto; zstd comprime ~25-40 % más\n",
    "    compression_level=5        # 1-22; 5-7 suele ser buen balance\n",
    ")"
   ]
  }
 ],
 "metadata": {
  "kernelspec": {
   "display_name": "bd15-despliegue-algo",
   "language": "python",
   "name": "python3"
  },
  "language_info": {
   "codemirror_mode": {
    "name": "ipython",
    "version": 3
   },
   "file_extension": ".py",
   "mimetype": "text/x-python",
   "name": "python",
   "nbconvert_exporter": "python",
   "pygments_lexer": "ipython3",
   "version": "3.11.13"
  }
 },
 "nbformat": 4,
 "nbformat_minor": 5
}
