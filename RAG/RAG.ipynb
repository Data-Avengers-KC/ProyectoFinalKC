{
 "cells": [
  {
   "cell_type": "markdown",
   "id": "b0f1d85f",
   "metadata": {},
   "source": [
    "## Retinopatía Diabética\n",
    "- **Guías y Recomendaciones para el Diagnóstico, Tratamiento y Complicaciones del Edema Macular Diabético y la Retinopatía Diabética** – *Sociedad Argentina de Oftalmología (SAO), edición 2021*. [PDF](https://sao.org.ar/images/Publicaciones/Guia_de_EMD_y_RD_SAO_2022.pdf)  \n",
    "- **Actualización de la Guía Clínica de Retinopatía Diabética para Latinoamérica** – *Asociación Panamericana de Oftalmología (PAAO), 2016*. [PDF](https://paao.org/wp-content/uploads/2016/05/guiaclinicaretinopatiadiabetica2016.pdf)  \n",
    "- **Guía de Práctica Clínica: Diagnóstico y Tratamiento de la Retinopatía Diabética** – *Instituto Mexicano del Seguro Social (IMSS, México), actualización 2013*. [PDF](https://www.imss.gob.mx/sites/all/statics/profesionalesSalud/investigacionSalud/historico/programas/16-pai-retinopatia-diabetica.pdf)  \n",
    "\n",
    "## Glaucoma\n",
    "- **Guía Latinoamericana de Glaucoma Primario de Ángulo Abierto** – *Asociación Panamericana de Oftalmología (PAAO), 2019*. [PDF](https://paao.org/wp-content/uploads/2016/05/Guia-Glaucoma-2019-final-para-www.pdf)  \n",
    "- **Guía de Práctica Clínica sobre Glaucoma de Ángulo Abierto** – *Ministerio de Sanidad (España), Red GuíaSalud* (aprox. 2015). [PDF](https://portal.guiasalud.es/wp-content/uploads/2018/12/GPC_568_Glaucoma_AQUAS_compl.pdf)  \n",
    "- **Guía de Práctica Clínica para el Manejo del Glaucoma Primario de Ángulo Abierto** – *IETSI EsSalud (Perú), 2021*. [PDF](https://ietsi.essalud.gob.pe/wp-content/uploads/2021/12/GPC-Glaucoma-AA_V-Ext-Anexos.pdf)  \n",
    "\n",
    "## Catarata \n",
    "- **Guía de Práctica Clínica para el Manejo de la Catarata del Adulto y Adulto Mayor** – *IETSI EsSalud (Perú), 2023*. [PDF](https://ietsi.essalud.gob.pe/wp-content/uploads/2024/01/GPC-Catarata-en-adulto-y-adulto-mayor_Version-extensa-y-Anexos.pdf)  \n",
    "- **Guía de Práctica Clínica en Catarata (Actualización)** – *Ministerio de Sanidad (España), 2013*. [PDF](https://portal.guiasalud.es/wp-content/uploads/2018/12/GPC_523_Catarata_Adulto_actualiz_2013.pdf)  \n",
    "- **Guía de Práctica Clínica: Diagnóstico y Tratamiento de Catarata sin co-morbilidades** – *IMSS (México), actualización 2013*. [PDF](https://www.imss.gob.mx/sites/all/statics/guiasclinicas/192GER.pdf)  \n",
    "\n",
    "## Degeneración Macular Asociada a la Edad (DMAE)\n",
    "- **Guía – Tratamiento de la DMAE Exudativa y Atrófica** – *Sociedad Española de Retina y Vítreo (SERV), 2ª revisión 2014*. [PDF](https://serv.es/wp-content/descargasWP/documentacionMedica/Guia_SERV_01_segundaRevision.pdf)  \n",
    "- **Protocolo: Diagnóstico, Seguimiento y Recomendaciones en DMAE Precoz e Intermedia** – *SERV (Consenso de expertos), 2016*. [PDF](https://serv.es/wp-content/descargasWP/documentacionMedica/consenso_DMAE.pdf)  \n",
    "- **Guía de Práctica Clínica para el Diagnóstico y Tratamiento de la DMAE** – *IETSI EsSalud (Perú), 2019*. [PDF](https://www.essalud.gob.pe/ietsi/pdfs/guias/GPC_DMRE_Version_extensa.pdf)  \n",
    "- **Guía consensuada sobre Diagnóstico y Tratamiento de la DMAE** – *Sociedad Argentina de Retina y Vítreo (SARyV), 2021*. [PDF](http://www.saryv.org.ar/downloads/Guia_consensuada_DMAE.pdf)  \n",
    "\n",
    "## Retinopatía Hipertensiva \n",
    "- **Manifestaciones oftalmológicas de la hipertensión arterial** – *Anales del Sistema Sanitario de Navarra (España), Suplemento 3, 2008*. [PDF](https://scielo.isciii.es/pdf/asisna/v31s3/original2.pdf)  \n",
    "- **Manifestaciones de la retinopatía hipertensiva y de la retinopatía diabética en población adulta** – *Scientific & Education Medical Journal (Colombia), Vol.1 Nº1, 2021*. [PDF](https://www.medicaljournal.com.co/index.php/mj/article/download/15/136)  \n",
    "- **Fondo de ojo en hipertensión arterial** – *Soc. Arg. de Hipertensión Arterial (SAHA), cap. 75 de guía clínica, ca. 2017*. [PDF](https://www.saha.org.ar/uploads/pdf/Cap.075.pdf)  \n",
    "\n",
    "## Miopía Patológica \n",
    "- **Manejo de las Complicaciones Retinianas en la Alta Miopía** – *Sociedad Española de Retina y Vítreo (SERV), 2018*. [PDF](https://serv.es/wp-content/descargasWP/documentacionMedica/Guia_SERV_18.pdf) \n",
    "- **Resumen Clínico del IMI: Miopía Patológica** – *International Myopia Institute, 2021 (versión en español)*. [PDF](https://myopiainstitute.org/wp-content/uploads/2021/06/IMI-2021_Resumen-Clinico-Del-IMI_Miopia-Patologica-Pathologic-Myopia_Espanol.pdf)   "
   ]
  }
 ],
 "metadata": {
  "kernelspec": {
   "display_name": "Python 3 (ipykernel)",
   "language": "python",
   "name": "python3"
  },
  "language_info": {
   "codemirror_mode": {
    "name": "ipython",
    "version": 3
   },
   "file_extension": ".py",
   "mimetype": "text/x-python",
   "name": "python",
   "nbconvert_exporter": "python",
   "pygments_lexer": "ipython3",
   "version": "3.10.18"
  }
 },
 "nbformat": 4,
 "nbformat_minor": 5
}
