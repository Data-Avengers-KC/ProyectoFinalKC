{
 "cells": [
  {
   "cell_type": "markdown",
   "id": "64903623",
   "metadata": {},
   "source": [
    "# Entrenamiento_2 modelo Multiclase con ResNet18 \n"
   ]
  },
  {
   "cell_type": "code",
   "execution_count": null,
   "id": "b7c805f8",
   "metadata": {},
   "outputs": [],
   "source": [
    "\n",
    "!pip -q install --upgrade pip\n",
    "!pip -q install mlflow scikit-learn matplotlib pillow pandas tqdm"
   ]
  },
  {
   "cell_type": "code",
   "execution_count": null,
   "id": "d6e4bba3",
   "metadata": {},
   "outputs": [],
   "source": [
    "# Comprobar GPU y entorno\n",
    "import torch, sys\n",
    "print(\"Python:\", sys.version)\n",
    "print(\"PyTorch:\", torch.__version__)\n",
    "print(\"CUDA disponible:\", torch.cuda.is_available())\n",
    "if torch.cuda.is_available():\n",
    "    print(\"GPU:\", torch.cuda.get_device_name(0))"
   ]
  },
  {
   "cell_type": "code",
   "execution_count": null,
   "id": "3bd03630",
   "metadata": {},
   "outputs": [],
   "source": [
    "# Montar Google Drive\n",
    "import os, pathlib\n",
    "from google.colab import drive\n",
    "drive.mount('/content/drive')\n",
    "\n",
    "PROJECT_DIR = \"/content/drive/MyDrive/ProyectoFinalKC\"\n",
    "pathlib.Path(PROJECT_DIR).mkdir(parents=True, exist_ok=True)\n",
    "os.chdir(PROJECT_DIR)\n",
    "print(\"Working dir:\", os.getcwd())"
   ]
  },
  {
   "cell_type": "code",
   "execution_count": null,
   "id": "e96c26dc",
   "metadata": {},
   "outputs": [],
   "source": [
    "# Ejecutar el script que construye los .pt (subsets) en Data/dataset/\n",
    "RUTA_CREATE = \"General/create_split_dataset_Leti.py\"  \n",
    "assert os.path.exists(RUTA_CREATE), f\"No se encuentra el script: {RUTA_CREATE}\"\n",
    "!python -u {RUTA_CREATE}"
   ]
  },
  {
   "cell_type": "code",
   "execution_count": null,
   "id": "28ab4f2d",
   "metadata": {},
   "outputs": [],
   "source": [
    "data_dir = os.path.join(os.getcwd(), \"Data\", \"dataset\")\n",
    "os.makedirs(data_dir, exist_ok=True)\n",
    "esperados = [\"train_dataset.pt\", \"val_dataset.pt\", \"test_dataset.pt\"]\n",
    "print(\"Data/dataset:\", os.listdir(data_dir) if os.path.isdir(data_dir) else \"No existe\")\n",
    "\n",
    "faltan = [f for f in esperados if not os.path.exists(os.path.join(data_dir, f))]\n",
    "assert not faltan, f\"FALTAN archivos en Data/dataset: {faltan}\"\n",
    "print(\"Subsets OK:\", esperados)"
   ]
  },
  {
   "cell_type": "code",
   "execution_count": null,
   "id": "1dcf0867",
   "metadata": {},
   "outputs": [],
   "source": [
    "# Ejecutar script real de entrenamiento\n",
    "RUTA_SCRIPT = \"General/train_2_Leticia.py\"  \n",
    "assert os.path.exists(RUTA_SCRIPT), f\"No se encuentra el script: {RUTA_SCRIPT}\"\n",
    "\n",
    "# Ejecutar el entrenamiento (tu script ya configura MLflow y guarda artefactos en mlruns)\n",
    "!python -u {RUTA_SCRIPT}"
   ]
  }
 ],
 "metadata": {
  "language_info": {
   "name": "python"
  }
 },
 "nbformat": 4,
 "nbformat_minor": 5
}
