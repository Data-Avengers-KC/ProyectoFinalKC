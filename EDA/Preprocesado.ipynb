{
 "cells": [
  {
   "cell_type": "code",
   "execution_count": 1,
   "id": "6e49affd",
   "metadata": {},
   "outputs": [],
   "source": [
    "import pandas as pd "
   ]
  },
  {
   "cell_type": "code",
   "execution_count": 2,
   "id": "24bf85a8",
   "metadata": {},
   "outputs": [],
   "source": [
    "df = pd.read_excel('data.xlsx')"
   ]
  },
  {
   "cell_type": "code",
   "execution_count": 3,
   "id": "77139309",
   "metadata": {},
   "outputs": [
    {
     "data": {
      "text/html": [
       "<div>\n",
       "<style scoped>\n",
       "    .dataframe tbody tr th:only-of-type {\n",
       "        vertical-align: middle;\n",
       "    }\n",
       "\n",
       "    .dataframe tbody tr th {\n",
       "        vertical-align: top;\n",
       "    }\n",
       "\n",
       "    .dataframe thead th {\n",
       "        text-align: right;\n",
       "    }\n",
       "</style>\n",
       "<table border=\"1\" class=\"dataframe\">\n",
       "  <thead>\n",
       "    <tr style=\"text-align: right;\">\n",
       "      <th></th>\n",
       "      <th>ID</th>\n",
       "      <th>Patient Age</th>\n",
       "      <th>Patient Sex</th>\n",
       "      <th>Left-Fundus</th>\n",
       "      <th>Right-Fundus</th>\n",
       "      <th>Left-Diagnostic Keywords</th>\n",
       "      <th>Right-Diagnostic Keywords</th>\n",
       "      <th>N</th>\n",
       "      <th>D</th>\n",
       "      <th>G</th>\n",
       "      <th>C</th>\n",
       "      <th>A</th>\n",
       "      <th>H</th>\n",
       "      <th>M</th>\n",
       "      <th>O</th>\n",
       "    </tr>\n",
       "  </thead>\n",
       "  <tbody>\n",
       "    <tr>\n",
       "      <th>0</th>\n",
       "      <td>0</td>\n",
       "      <td>69</td>\n",
       "      <td>Female</td>\n",
       "      <td>0_left.jpg</td>\n",
       "      <td>0_right.jpg</td>\n",
       "      <td>cataract</td>\n",
       "      <td>normal fundus</td>\n",
       "      <td>0</td>\n",
       "      <td>0</td>\n",
       "      <td>0</td>\n",
       "      <td>1</td>\n",
       "      <td>0</td>\n",
       "      <td>0</td>\n",
       "      <td>0</td>\n",
       "      <td>0</td>\n",
       "    </tr>\n",
       "  </tbody>\n",
       "</table>\n",
       "</div>"
      ],
      "text/plain": [
       "   ID  Patient Age Patient Sex Left-Fundus Right-Fundus  \\\n",
       "0   0           69      Female  0_left.jpg  0_right.jpg   \n",
       "\n",
       "  Left-Diagnostic Keywords Right-Diagnostic Keywords  N  D  G  C  A  H  M  O  \n",
       "0                 cataract             normal fundus  0  0  0  1  0  0  0  0  "
      ]
     },
     "execution_count": 3,
     "metadata": {},
     "output_type": "execute_result"
    }
   ],
   "source": [
    "df.head(1)"
   ]
  },
  {
   "cell_type": "markdown",
   "id": "5624df37",
   "metadata": {},
   "source": [
    "Listado de cosas por preprocesar:\n",
    "- ID, eliminar (identificador)\n",
    "- Patient Sex (Transformación a Binario)\n",
    "- Left-Fundus - Right-Fundus (matener)\n",
    "- Left-Diagnostic Keywords - Right-Diagnostic Keywords (TOP-N Vectorizamos todas?)\n",
    "- N\tD G\tC A\tH M\tO son el target\n",
    " "
   ]
  },
  {
   "cell_type": "code",
   "execution_count": 4,
   "id": "92b942ab",
   "metadata": {},
   "outputs": [],
   "source": [
    "df = df.drop(columns=['ID'])"
   ]
  },
  {
   "cell_type": "code",
   "execution_count": 5,
   "id": "aa672364",
   "metadata": {},
   "outputs": [
    {
     "name": "stdout",
     "output_type": "stream",
     "text": [
      "<class 'pandas.core.frame.DataFrame'>\n",
      "RangeIndex: 3500 entries, 0 to 3499\n",
      "Data columns (total 14 columns):\n",
      " #   Column                     Non-Null Count  Dtype \n",
      "---  ------                     --------------  ----- \n",
      " 0   Patient Age                3500 non-null   int64 \n",
      " 1   Patient Sex                3500 non-null   object\n",
      " 2   Left-Fundus                3500 non-null   object\n",
      " 3   Right-Fundus               3500 non-null   object\n",
      " 4   Left-Diagnostic Keywords   3500 non-null   object\n",
      " 5   Right-Diagnostic Keywords  3500 non-null   object\n",
      " 6   N                          3500 non-null   int64 \n",
      " 7   D                          3500 non-null   int64 \n",
      " 8   G                          3500 non-null   int64 \n",
      " 9   C                          3500 non-null   int64 \n",
      " 10  A                          3500 non-null   int64 \n",
      " 11  H                          3500 non-null   int64 \n",
      " 12  M                          3500 non-null   int64 \n",
      " 13  O                          3500 non-null   int64 \n",
      "dtypes: int64(9), object(5)\n",
      "memory usage: 382.9+ KB\n"
     ]
    }
   ],
   "source": [
    "df.info()"
   ]
  },
  {
   "cell_type": "code",
   "execution_count": 6,
   "id": "4a44f37f",
   "metadata": {},
   "outputs": [],
   "source": [
    "#Transformar a binario el campo Patient Sex\n",
    "df['Patient_Sex_Binario'] = df['Patient Sex'].map({'Male': 1, \"Female\": 0})\n"
   ]
  },
  {
   "cell_type": "code",
   "execution_count": 7,
   "id": "9649e7d6",
   "metadata": {},
   "outputs": [
    {
     "data": {
      "text/plain": [
       "0    0\n",
       "1    1\n",
       "2    1\n",
       "3    1\n",
       "4    1\n",
       "5    0\n",
       "6    1\n",
       "7    0\n",
       "8    1\n",
       "9    1\n",
       "Name: Patient_Sex_Binario, dtype: int64"
      ]
     },
     "execution_count": 7,
     "metadata": {},
     "output_type": "execute_result"
    }
   ],
   "source": [
    "df.Patient_Sex_Binario.head(10)"
   ]
  },
  {
   "cell_type": "code",
   "execution_count": 8,
   "id": "47f3e0de",
   "metadata": {},
   "outputs": [],
   "source": [
    "df.drop(columns=['Patient Sex'], inplace=True)"
   ]
  },
  {
   "cell_type": "code",
   "execution_count": 9,
   "id": "e6c0e5dc",
   "metadata": {},
   "outputs": [
    {
     "name": "stdout",
     "output_type": "stream",
     "text": [
      "<class 'pandas.core.frame.DataFrame'>\n",
      "RangeIndex: 3500 entries, 0 to 3499\n",
      "Data columns (total 14 columns):\n",
      " #   Column                     Non-Null Count  Dtype \n",
      "---  ------                     --------------  ----- \n",
      " 0   Patient Age                3500 non-null   int64 \n",
      " 1   Left-Fundus                3500 non-null   object\n",
      " 2   Right-Fundus               3500 non-null   object\n",
      " 3   Left-Diagnostic Keywords   3500 non-null   object\n",
      " 4   Right-Diagnostic Keywords  3500 non-null   object\n",
      " 5   N                          3500 non-null   int64 \n",
      " 6   D                          3500 non-null   int64 \n",
      " 7   G                          3500 non-null   int64 \n",
      " 8   C                          3500 non-null   int64 \n",
      " 9   A                          3500 non-null   int64 \n",
      " 10  H                          3500 non-null   int64 \n",
      " 11  M                          3500 non-null   int64 \n",
      " 12  O                          3500 non-null   int64 \n",
      " 13  Patient_Sex_Binario        3500 non-null   int64 \n",
      "dtypes: int64(10), object(4)\n",
      "memory usage: 382.9+ KB\n"
     ]
    }
   ],
   "source": [
    "df.info()"
   ]
  },
  {
   "cell_type": "markdown",
   "id": "1f0fecac",
   "metadata": {},
   "source": [
    "- opcional crear columna categorica con la cantidad de enfermedades.\n",
    "- opcional crear columna Binaria con si es lens dust o no 0/1"
   ]
  },
  {
   "cell_type": "code",
   "execution_count": 10,
   "id": "2329f14d",
   "metadata": {},
   "outputs": [],
   "source": [
    "\n",
    "def parse_keywords(cell: str) -> list[str]:\n",
    "    \"\"\"\n",
    "    Convierte la cadena 'laser spot, white vessel' --> ['laser spot', 'white vessel']\n",
    "    Devuelve lista vacía si la celda está vacía o es NaN.\n",
    "    \"\"\"\n",
    "    if pd.isna(cell):\n",
    "        return []\n",
    "    # divide por coma, quita espacios extra, pasa a minúsculas\n",
    "    parts = [kw.strip().lower() for kw in cell.split(',')]\n",
    "    # elimina strings vacíos (caso de ',,' → '' )\n",
    "    return [p for p in parts if p]\n"
   ]
  },
  {
   "cell_type": "code",
   "execution_count": 11,
   "id": "429cd02b",
   "metadata": {},
   "outputs": [],
   "source": [
    "df['kw_left']  = df['Left-Diagnostic Keywords'].apply(parse_keywords)\n",
    "df['kw_right'] = df['Right-Diagnostic Keywords'].apply(parse_keywords)\n",
    "\n",
    "# Combina listas: ojo, crea una NUEVA lista por fila (evita aliasing con .copy())\n",
    "df['kw_all'] = df.apply(lambda row: row['kw_left'] + row['kw_right'], axis=1)\n"
   ]
  },
  {
   "cell_type": "code",
   "execution_count": 12,
   "id": "86041f5a",
   "metadata": {},
   "outputs": [],
   "source": [
    "from itertools import chain\n",
    "\n",
    "all_keywords = sorted(set(chain.from_iterable(df['kw_all'])))\n",
    "# 0 lo reservamos para padding; empezamos en 1\n",
    "stoi = {kw: idx + 1 for idx, kw in enumerate(all_keywords)}\n",
    "itos = {i: w for w, i in stoi.items()}\n",
    "PAD_IDX = 0\n"
   ]
  },
  {
   "cell_type": "code",
   "execution_count": 13,
   "id": "58e9d4b5",
   "metadata": {},
   "outputs": [],
   "source": [
    "df['kw_idx'] = df['kw_all'].apply(lambda kws: [stoi[k] for k in kws])\n"
   ]
  },
  {
   "cell_type": "code",
   "execution_count": 14,
   "id": "7363cc85",
   "metadata": {},
   "outputs": [
    {
     "name": "stdout",
     "output_type": "stream",
     "text": [
      "<class 'pandas.core.frame.DataFrame'>\n",
      "RangeIndex: 3500 entries, 0 to 3499\n",
      "Data columns (total 18 columns):\n",
      " #   Column                     Non-Null Count  Dtype \n",
      "---  ------                     --------------  ----- \n",
      " 0   Patient Age                3500 non-null   int64 \n",
      " 1   Left-Fundus                3500 non-null   object\n",
      " 2   Right-Fundus               3500 non-null   object\n",
      " 3   Left-Diagnostic Keywords   3500 non-null   object\n",
      " 4   Right-Diagnostic Keywords  3500 non-null   object\n",
      " 5   N                          3500 non-null   int64 \n",
      " 6   D                          3500 non-null   int64 \n",
      " 7   G                          3500 non-null   int64 \n",
      " 8   C                          3500 non-null   int64 \n",
      " 9   A                          3500 non-null   int64 \n",
      " 10  H                          3500 non-null   int64 \n",
      " 11  M                          3500 non-null   int64 \n",
      " 12  O                          3500 non-null   int64 \n",
      " 13  Patient_Sex_Binario        3500 non-null   int64 \n",
      " 14  kw_left                    3500 non-null   object\n",
      " 15  kw_right                   3500 non-null   object\n",
      " 16  kw_all                     3500 non-null   object\n",
      " 17  kw_idx                     3500 non-null   object\n",
      "dtypes: int64(10), object(8)\n",
      "memory usage: 492.3+ KB\n"
     ]
    }
   ],
   "source": [
    "df.info()"
   ]
  },
  {
   "cell_type": "code",
   "execution_count": 19,
   "id": "8d043e34",
   "metadata": {},
   "outputs": [
    {
     "data": {
      "text/html": [
       "<div>\n",
       "<style scoped>\n",
       "    .dataframe tbody tr th:only-of-type {\n",
       "        vertical-align: middle;\n",
       "    }\n",
       "\n",
       "    .dataframe tbody tr th {\n",
       "        vertical-align: top;\n",
       "    }\n",
       "\n",
       "    .dataframe thead th {\n",
       "        text-align: right;\n",
       "    }\n",
       "</style>\n",
       "<table border=\"1\" class=\"dataframe\">\n",
       "  <thead>\n",
       "    <tr style=\"text-align: right;\">\n",
       "      <th></th>\n",
       "      <th>Patient Age</th>\n",
       "      <th>Left-Fundus</th>\n",
       "      <th>Right-Fundus</th>\n",
       "      <th>Left-Diagnostic Keywords</th>\n",
       "      <th>Right-Diagnostic Keywords</th>\n",
       "      <th>N</th>\n",
       "      <th>D</th>\n",
       "      <th>G</th>\n",
       "      <th>C</th>\n",
       "      <th>A</th>\n",
       "      <th>H</th>\n",
       "      <th>M</th>\n",
       "      <th>O</th>\n",
       "      <th>Patient_Sex_Binario</th>\n",
       "      <th>kw_left</th>\n",
       "      <th>kw_right</th>\n",
       "      <th>kw_all</th>\n",
       "      <th>kw_idx</th>\n",
       "    </tr>\n",
       "  </thead>\n",
       "  <tbody>\n",
       "    <tr>\n",
       "      <th>0</th>\n",
       "      <td>69</td>\n",
       "      <td>0_left.jpg</td>\n",
       "      <td>0_right.jpg</td>\n",
       "      <td>cataract</td>\n",
       "      <td>normal fundus</td>\n",
       "      <td>0</td>\n",
       "      <td>0</td>\n",
       "      <td>0</td>\n",
       "      <td>1</td>\n",
       "      <td>0</td>\n",
       "      <td>0</td>\n",
       "      <td>0</td>\n",
       "      <td>0</td>\n",
       "      <td>0</td>\n",
       "      <td>[cataract]</td>\n",
       "      <td>[normal fundus]</td>\n",
       "      <td>[cataract, normal fundus]</td>\n",
       "      <td>[9, 235]</td>\n",
       "    </tr>\n",
       "    <tr>\n",
       "      <th>1</th>\n",
       "      <td>57</td>\n",
       "      <td>1_left.jpg</td>\n",
       "      <td>1_right.jpg</td>\n",
       "      <td>normal fundus</td>\n",
       "      <td>normal fundus</td>\n",
       "      <td>1</td>\n",
       "      <td>0</td>\n",
       "      <td>0</td>\n",
       "      <td>0</td>\n",
       "      <td>0</td>\n",
       "      <td>0</td>\n",
       "      <td>0</td>\n",
       "      <td>0</td>\n",
       "      <td>1</td>\n",
       "      <td>[normal fundus]</td>\n",
       "      <td>[normal fundus]</td>\n",
       "      <td>[normal fundus, normal fundus]</td>\n",
       "      <td>[235, 235]</td>\n",
       "    </tr>\n",
       "    <tr>\n",
       "      <th>2</th>\n",
       "      <td>42</td>\n",
       "      <td>2_left.jpg</td>\n",
       "      <td>2_right.jpg</td>\n",
       "      <td>laser spot，moderate non proliferative retinopathy</td>\n",
       "      <td>moderate non proliferative retinopathy</td>\n",
       "      <td>0</td>\n",
       "      <td>1</td>\n",
       "      <td>0</td>\n",
       "      <td>0</td>\n",
       "      <td>0</td>\n",
       "      <td>0</td>\n",
       "      <td>0</td>\n",
       "      <td>1</td>\n",
       "      <td>1</td>\n",
       "      <td>[laser spot，moderate non proliferative retinop...</td>\n",
       "      <td>[moderate non proliferative retinopathy]</td>\n",
       "      <td>[laser spot，moderate non proliferative retinop...</td>\n",
       "      <td>[117, 184]</td>\n",
       "    </tr>\n",
       "    <tr>\n",
       "      <th>3</th>\n",
       "      <td>66</td>\n",
       "      <td>3_left.jpg</td>\n",
       "      <td>3_right.jpg</td>\n",
       "      <td>normal fundus</td>\n",
       "      <td>branch retinal artery occlusion</td>\n",
       "      <td>0</td>\n",
       "      <td>0</td>\n",
       "      <td>0</td>\n",
       "      <td>0</td>\n",
       "      <td>0</td>\n",
       "      <td>0</td>\n",
       "      <td>0</td>\n",
       "      <td>1</td>\n",
       "      <td>1</td>\n",
       "      <td>[normal fundus]</td>\n",
       "      <td>[branch retinal artery occlusion]</td>\n",
       "      <td>[normal fundus, branch retinal artery occlusion]</td>\n",
       "      <td>[235, 6]</td>\n",
       "    </tr>\n",
       "    <tr>\n",
       "      <th>4</th>\n",
       "      <td>53</td>\n",
       "      <td>4_left.jpg</td>\n",
       "      <td>4_right.jpg</td>\n",
       "      <td>macular epiretinal membrane</td>\n",
       "      <td>mild nonproliferative retinopathy</td>\n",
       "      <td>0</td>\n",
       "      <td>1</td>\n",
       "      <td>0</td>\n",
       "      <td>0</td>\n",
       "      <td>0</td>\n",
       "      <td>0</td>\n",
       "      <td>0</td>\n",
       "      <td>1</td>\n",
       "      <td>1</td>\n",
       "      <td>[macular epiretinal membrane]</td>\n",
       "      <td>[mild nonproliferative retinopathy]</td>\n",
       "      <td>[macular epiretinal membrane, mild nonprolifer...</td>\n",
       "      <td>[151, 171]</td>\n",
       "    </tr>\n",
       "  </tbody>\n",
       "</table>\n",
       "</div>"
      ],
      "text/plain": [
       "   Patient Age Left-Fundus Right-Fundus  \\\n",
       "0           69  0_left.jpg  0_right.jpg   \n",
       "1           57  1_left.jpg  1_right.jpg   \n",
       "2           42  2_left.jpg  2_right.jpg   \n",
       "3           66  3_left.jpg  3_right.jpg   \n",
       "4           53  4_left.jpg  4_right.jpg   \n",
       "\n",
       "                            Left-Diagnostic Keywords  \\\n",
       "0                                           cataract   \n",
       "1                                      normal fundus   \n",
       "2  laser spot，moderate non proliferative retinopathy   \n",
       "3                                      normal fundus   \n",
       "4                        macular epiretinal membrane   \n",
       "\n",
       "                Right-Diagnostic Keywords  N  D  G  C  A  H  M  O  \\\n",
       "0                           normal fundus  0  0  0  1  0  0  0  0   \n",
       "1                           normal fundus  1  0  0  0  0  0  0  0   \n",
       "2  moderate non proliferative retinopathy  0  1  0  0  0  0  0  1   \n",
       "3         branch retinal artery occlusion  0  0  0  0  0  0  0  1   \n",
       "4       mild nonproliferative retinopathy  0  1  0  0  0  0  0  1   \n",
       "\n",
       "   Patient_Sex_Binario                                            kw_left  \\\n",
       "0                    0                                         [cataract]   \n",
       "1                    1                                    [normal fundus]   \n",
       "2                    1  [laser spot，moderate non proliferative retinop...   \n",
       "3                    1                                    [normal fundus]   \n",
       "4                    1                      [macular epiretinal membrane]   \n",
       "\n",
       "                                   kw_right  \\\n",
       "0                           [normal fundus]   \n",
       "1                           [normal fundus]   \n",
       "2  [moderate non proliferative retinopathy]   \n",
       "3         [branch retinal artery occlusion]   \n",
       "4       [mild nonproliferative retinopathy]   \n",
       "\n",
       "                                              kw_all      kw_idx  \n",
       "0                          [cataract, normal fundus]    [9, 235]  \n",
       "1                     [normal fundus, normal fundus]  [235, 235]  \n",
       "2  [laser spot，moderate non proliferative retinop...  [117, 184]  \n",
       "3   [normal fundus, branch retinal artery occlusion]    [235, 6]  \n",
       "4  [macular epiretinal membrane, mild nonprolifer...  [151, 171]  "
      ]
     },
     "execution_count": 19,
     "metadata": {},
     "output_type": "execute_result"
    }
   ],
   "source": [
    "df.head(5)           \n"
   ]
  },
  {
   "cell_type": "markdown",
   "id": "dc0d28a1",
   "metadata": {},
   "source": [
    "Revisar Embedding de Indices si individual o por conjuntos-debatir**"
   ]
  }
 ],
 "metadata": {
  "kernelspec": {
   "display_name": "Python 3",
   "language": "python",
   "name": "python3"
  },
  "language_info": {
   "codemirror_mode": {
    "name": "ipython",
    "version": 3
   },
   "file_extension": ".py",
   "mimetype": "text/x-python",
   "name": "python",
   "nbconvert_exporter": "python",
   "pygments_lexer": "ipython3",
   "version": "3.11.9"
  }
 },
 "nbformat": 4,
 "nbformat_minor": 5
}
