{
 "cells": [
  {
   "cell_type": "markdown",
   "id": "464b1a12-11ff-4fce-b9ec-5232518778e8",
   "metadata": {},
   "source": [
    "### Importación de librerías\n",
    "\n",
    "Se importan las principales librerías utilizadas en el análisis y preprocesamiento:\n",
    "\n",
    "- `pandas`: para la manipulación de datos tabulares.\n",
    "- `numpy`: para operaciones numéricas.\n",
    "- `matplotlib.pyplot`: para visualización básica.\n",
    "- `seaborn`: para visualizaciones estadísticas más estilizadas.\n",
    "- `re`: para trabajar con expresiones regulares.\n",
    "- `scipy.stats.ttest_ind`: para realizar pruebas t de comparación de medias.\n",
    "- `scipy.stats.chi2_contingency`: para pruebas de independencia entre variables categóricas."
   ]
  },
  {
   "cell_type": "code",
   "execution_count": 7,
   "id": "95816982",
   "metadata": {},
   "outputs": [],
   "source": [
    "import pandas as pd\n",
    "import numpy as np\n",
    "import matplotlib.pyplot as plt\n",
    "import seaborn as sns\n",
    "import re\n",
    "from scipy.stats import ttest_ind\n",
    "from scipy.stats import chi2_contingency"
   ]
  },
  {
   "cell_type": "markdown",
   "id": "d564cb00-f685-4c6e-8f74-7f79d1de9719",
   "metadata": {},
   "source": [
    "## Carga de datos\n",
    "\n",
    "Cargamos el dataset en excel utilizando `pandas` para hacer el EDA y hacemos una vista general."
   ]
  },
  {
   "cell_type": "code",
   "execution_count": 8,
   "id": "74798344",
   "metadata": {},
   "outputs": [],
   "source": [
    "df = pd.read_excel('data.xlsx')"
   ]
  },
  {
   "cell_type": "markdown",
   "id": "8c2ddea7",
   "metadata": {},
   "source": [
    "### Descripción del conjunto de datos  \n",
    "- **Filas (pacientes):** 3 500  \n",
    "- **Columnas:** 15  \n",
    "  - Información demográfica: `ID`, `Patient Age`, `Patient Sex`  \n",
    "  - Rutas de imagen: `Left-Fundus`, `Right-Fundus`  \n",
    "  - Observaciones clínicas: `Left-Diagnostic Keywords`, `Right-Diagnostic Keywords`  \n",
    "  - Etiquetas binarias: `N`, `D`, `G`, `C`, `A`, `H`, `M`, `O` \n",
    "    "
   ]
  },
  {
   "cell_type": "code",
   "execution_count": 9,
   "id": "9315a0ed",
   "metadata": {},
   "outputs": [
    {
     "data": {
      "text/html": [
       "<div>\n",
       "<style scoped>\n",
       "    .dataframe tbody tr th:only-of-type {\n",
       "        vertical-align: middle;\n",
       "    }\n",
       "\n",
       "    .dataframe tbody tr th {\n",
       "        vertical-align: top;\n",
       "    }\n",
       "\n",
       "    .dataframe thead th {\n",
       "        text-align: right;\n",
       "    }\n",
       "</style>\n",
       "<table border=\"1\" class=\"dataframe\">\n",
       "  <thead>\n",
       "    <tr style=\"text-align: right;\">\n",
       "      <th></th>\n",
       "      <th>ID</th>\n",
       "      <th>Patient Age</th>\n",
       "      <th>Patient Sex</th>\n",
       "      <th>Left-Fundus</th>\n",
       "      <th>Right-Fundus</th>\n",
       "      <th>Left-Diagnostic Keywords</th>\n",
       "      <th>Right-Diagnostic Keywords</th>\n",
       "      <th>N</th>\n",
       "      <th>D</th>\n",
       "      <th>G</th>\n",
       "      <th>C</th>\n",
       "      <th>A</th>\n",
       "      <th>H</th>\n",
       "      <th>M</th>\n",
       "      <th>O</th>\n",
       "    </tr>\n",
       "  </thead>\n",
       "  <tbody>\n",
       "    <tr>\n",
       "      <th>0</th>\n",
       "      <td>0</td>\n",
       "      <td>69</td>\n",
       "      <td>Female</td>\n",
       "      <td>0_left.jpg</td>\n",
       "      <td>0_right.jpg</td>\n",
       "      <td>cataract</td>\n",
       "      <td>normal fundus</td>\n",
       "      <td>0</td>\n",
       "      <td>0</td>\n",
       "      <td>0</td>\n",
       "      <td>1</td>\n",
       "      <td>0</td>\n",
       "      <td>0</td>\n",
       "      <td>0</td>\n",
       "      <td>0</td>\n",
       "    </tr>\n",
       "    <tr>\n",
       "      <th>1</th>\n",
       "      <td>1</td>\n",
       "      <td>57</td>\n",
       "      <td>Male</td>\n",
       "      <td>1_left.jpg</td>\n",
       "      <td>1_right.jpg</td>\n",
       "      <td>normal fundus</td>\n",
       "      <td>normal fundus</td>\n",
       "      <td>1</td>\n",
       "      <td>0</td>\n",
       "      <td>0</td>\n",
       "      <td>0</td>\n",
       "      <td>0</td>\n",
       "      <td>0</td>\n",
       "      <td>0</td>\n",
       "      <td>0</td>\n",
       "    </tr>\n",
       "    <tr>\n",
       "      <th>2</th>\n",
       "      <td>2</td>\n",
       "      <td>42</td>\n",
       "      <td>Male</td>\n",
       "      <td>2_left.jpg</td>\n",
       "      <td>2_right.jpg</td>\n",
       "      <td>laser spot，moderate non proliferative retinopathy</td>\n",
       "      <td>moderate non proliferative retinopathy</td>\n",
       "      <td>0</td>\n",
       "      <td>1</td>\n",
       "      <td>0</td>\n",
       "      <td>0</td>\n",
       "      <td>0</td>\n",
       "      <td>0</td>\n",
       "      <td>0</td>\n",
       "      <td>1</td>\n",
       "    </tr>\n",
       "  </tbody>\n",
       "</table>\n",
       "</div>"
      ],
      "text/plain": [
       "   ID  Patient Age Patient Sex Left-Fundus Right-Fundus  \\\n",
       "0   0           69      Female  0_left.jpg  0_right.jpg   \n",
       "1   1           57        Male  1_left.jpg  1_right.jpg   \n",
       "2   2           42        Male  2_left.jpg  2_right.jpg   \n",
       "\n",
       "                            Left-Diagnostic Keywords  \\\n",
       "0                                           cataract   \n",
       "1                                      normal fundus   \n",
       "2  laser spot，moderate non proliferative retinopathy   \n",
       "\n",
       "                Right-Diagnostic Keywords  N  D  G  C  A  H  M  O  \n",
       "0                           normal fundus  0  0  0  1  0  0  0  0  \n",
       "1                           normal fundus  1  0  0  0  0  0  0  0  \n",
       "2  moderate non proliferative retinopathy  0  1  0  0  0  0  0  1  "
      ]
     },
     "execution_count": 9,
     "metadata": {},
     "output_type": "execute_result"
    }
   ],
   "source": [
    "#df.head(5)\n",
    "df.head(3)"
   ]
  },
  {
   "cell_type": "markdown",
   "id": "70212eb8-79c5-414b-877c-e4647a57353c",
   "metadata": {},
   "source": [
    "Se comprueba la presencia de valores NA y el tipo de datos en cada columna."
   ]
  },
  {
   "cell_type": "code",
   "execution_count": 4,
   "id": "0e217c03",
   "metadata": {},
   "outputs": [
    {
     "name": "stdout",
     "output_type": "stream",
     "text": [
      "<class 'pandas.core.frame.DataFrame'>\n",
      "RangeIndex: 3500 entries, 0 to 3499\n",
      "Data columns (total 15 columns):\n",
      " #   Column                     Non-Null Count  Dtype \n",
      "---  ------                     --------------  ----- \n",
      " 0   ID                         3500 non-null   int64 \n",
      " 1   Patient Age                3500 non-null   int64 \n",
      " 2   Patient Sex                3500 non-null   object\n",
      " 3   Left-Fundus                3500 non-null   object\n",
      " 4   Right-Fundus               3500 non-null   object\n",
      " 5   Left-Diagnostic Keywords   3500 non-null   object\n",
      " 6   Right-Diagnostic Keywords  3500 non-null   object\n",
      " 7   N                          3500 non-null   int64 \n",
      " 8   D                          3500 non-null   int64 \n",
      " 9   G                          3500 non-null   int64 \n",
      " 10  C                          3500 non-null   int64 \n",
      " 11  A                          3500 non-null   int64 \n",
      " 12  H                          3500 non-null   int64 \n",
      " 13  M                          3500 non-null   int64 \n",
      " 14  O                          3500 non-null   int64 \n",
      "dtypes: int64(10), object(5)\n",
      "memory usage: 410.3+ KB\n"
     ]
    }
   ],
   "source": [
    "kk = df.info()\n",
    "kk"
   ]
  },
  {
   "cell_type": "markdown",
   "id": "668127b4-58f9-470e-872d-b88e331b3514",
   "metadata": {},
   "source": [
    "Para las columnas anotadas como 'object' se comprueba su tipo de variable."
   ]
  },
  {
   "cell_type": "code",
   "execution_count": 5,
   "id": "4e45b27d",
   "metadata": {},
   "outputs": [
    {
     "name": "stdout",
     "output_type": "stream",
     "text": [
      "<class 'str'>\n",
      "<class 'str'>\n",
      "<class 'str'>\n",
      "<class 'str'>\n",
      "<class 'str'>\n"
     ]
    }
   ],
   "source": [
    "print(type(df[\"Patient Sex\"][0]))\n",
    "print(type(df[\"Left-Fundus\"][0]))\n",
    "print(type(df[\"Right-Fundus\"][0]))\n",
    "print(type(df[\"Left-Diagnostic Keywords\"][0]))\n",
    "print(type(df[\"Right-Diagnostic Keywords\"][0]))\n"
   ]
  },
  {
   "cell_type": "markdown",
   "id": "74034aa4",
   "metadata": {},
   "source": [
    "Se comprueba que no hay entradas duplicadas verificando el conjunto total de las entradas y la columna de ID."
   ]
  },
  {
   "cell_type": "code",
   "execution_count": 6,
   "id": "54c70353",
   "metadata": {},
   "outputs": [
    {
     "name": "stdout",
     "output_type": "stream",
     "text": [
      "Número de filas duplicadas: 0\n"
     ]
    }
   ],
   "source": [
    "print(f'Número de filas duplicadas: {df.duplicated().sum()}')  # Verificar si hay filas duplicadas "
   ]
  },
  {
   "cell_type": "code",
   "execution_count": 7,
   "id": "cdcbe2e5",
   "metadata": {},
   "outputs": [
    {
     "name": "stdout",
     "output_type": "stream",
     "text": [
      "Número de IDs duplicados: 0\n"
     ]
    }
   ],
   "source": [
    "print(f'Número de IDs duplicados: {df.ID.duplicated().sum()}')  # Verificar si hay IDs duplicados"
   ]
  },
  {
   "cell_type": "code",
   "execution_count": 181,
   "id": "bb18aac2-629f-4a53-9588-104ce42eaf89",
   "metadata": {},
   "outputs": [
    {
     "data": {
      "text/html": [
       "<div>\n",
       "<style scoped>\n",
       "    .dataframe tbody tr th:only-of-type {\n",
       "        vertical-align: middle;\n",
       "    }\n",
       "\n",
       "    .dataframe tbody tr th {\n",
       "        vertical-align: top;\n",
       "    }\n",
       "\n",
       "    .dataframe thead th {\n",
       "        text-align: right;\n",
       "    }\n",
       "</style>\n",
       "<table border=\"1\" class=\"dataframe\">\n",
       "  <thead>\n",
       "    <tr style=\"text-align: right;\">\n",
       "      <th></th>\n",
       "      <th>Patient Sex</th>\n",
       "      <th>Left-Fundus</th>\n",
       "      <th>left_keywords</th>\n",
       "      <th>D</th>\n",
       "    </tr>\n",
       "  </thead>\n",
       "  <tbody>\n",
       "    <tr>\n",
       "      <th>0</th>\n",
       "      <td>Female</td>\n",
       "      <td>0_left.jpg</td>\n",
       "      <td>[cataract]</td>\n",
       "      <td>0</td>\n",
       "    </tr>\n",
       "    <tr>\n",
       "      <th>1</th>\n",
       "      <td>Male</td>\n",
       "      <td>1_left.jpg</td>\n",
       "      <td>[normal fundus]</td>\n",
       "      <td>0</td>\n",
       "    </tr>\n",
       "    <tr>\n",
       "      <th>2</th>\n",
       "      <td>Male</td>\n",
       "      <td>2_left.jpg</td>\n",
       "      <td>[laser spot, moderate non proliferative retino...</td>\n",
       "      <td>1</td>\n",
       "    </tr>\n",
       "    <tr>\n",
       "      <th>3</th>\n",
       "      <td>Male</td>\n",
       "      <td>3_left.jpg</td>\n",
       "      <td>[normal fundus]</td>\n",
       "      <td>0</td>\n",
       "    </tr>\n",
       "    <tr>\n",
       "      <th>4</th>\n",
       "      <td>Male</td>\n",
       "      <td>4_left.jpg</td>\n",
       "      <td>[macular epiretinal membrane]</td>\n",
       "      <td>1</td>\n",
       "    </tr>\n",
       "    <tr>\n",
       "      <th>...</th>\n",
       "      <td>...</td>\n",
       "      <td>...</td>\n",
       "      <td>...</td>\n",
       "      <td>...</td>\n",
       "    </tr>\n",
       "    <tr>\n",
       "      <th>3495</th>\n",
       "      <td>Male</td>\n",
       "      <td>4686_left.jpg</td>\n",
       "      <td>[severe nonproliferative retinopathy]</td>\n",
       "      <td>1</td>\n",
       "    </tr>\n",
       "    <tr>\n",
       "      <th>3496</th>\n",
       "      <td>Male</td>\n",
       "      <td>4688_left.jpg</td>\n",
       "      <td>[moderate non proliferative retinopathy]</td>\n",
       "      <td>1</td>\n",
       "    </tr>\n",
       "    <tr>\n",
       "      <th>3497</th>\n",
       "      <td>Male</td>\n",
       "      <td>4689_left.jpg</td>\n",
       "      <td>[mild nonproliferative retinopathy]</td>\n",
       "      <td>1</td>\n",
       "    </tr>\n",
       "    <tr>\n",
       "      <th>3498</th>\n",
       "      <td>Male</td>\n",
       "      <td>4690_left.jpg</td>\n",
       "      <td>[mild nonproliferative retinopathy]</td>\n",
       "      <td>1</td>\n",
       "    </tr>\n",
       "    <tr>\n",
       "      <th>3499</th>\n",
       "      <td>Male</td>\n",
       "      <td>4784_left.jpg</td>\n",
       "      <td>[hypertensive retinopathy, age-related macular...</td>\n",
       "      <td>0</td>\n",
       "    </tr>\n",
       "  </tbody>\n",
       "</table>\n",
       "<p>3500 rows × 4 columns</p>\n",
       "</div>"
      ],
      "text/plain": [
       "     Patient Sex    Left-Fundus  \\\n",
       "0         Female     0_left.jpg   \n",
       "1           Male     1_left.jpg   \n",
       "2           Male     2_left.jpg   \n",
       "3           Male     3_left.jpg   \n",
       "4           Male     4_left.jpg   \n",
       "...          ...            ...   \n",
       "3495        Male  4686_left.jpg   \n",
       "3496        Male  4688_left.jpg   \n",
       "3497        Male  4689_left.jpg   \n",
       "3498        Male  4690_left.jpg   \n",
       "3499        Male  4784_left.jpg   \n",
       "\n",
       "                                          left_keywords  D  \n",
       "0                                            [cataract]  0  \n",
       "1                                       [normal fundus]  0  \n",
       "2     [laser spot, moderate non proliferative retino...  1  \n",
       "3                                       [normal fundus]  0  \n",
       "4                         [macular epiretinal membrane]  1  \n",
       "...                                                 ... ..  \n",
       "3495              [severe nonproliferative retinopathy]  1  \n",
       "3496           [moderate non proliferative retinopathy]  1  \n",
       "3497                [mild nonproliferative retinopathy]  1  \n",
       "3498                [mild nonproliferative retinopathy]  1  \n",
       "3499  [hypertensive retinopathy, age-related macular...  0  \n",
       "\n",
       "[3500 rows x 4 columns]"
      ]
     },
     "execution_count": 181,
     "metadata": {},
     "output_type": "execute_result"
    }
   ],
   "source": [
    "df.head(3)\n",
    "df[['Patient Sex', 'Left-Fundus', 'left_keywords', 'D']]"
   ]
  },
  {
   "cell_type": "markdown",
   "id": "1cdf1218",
   "metadata": {},
   "source": [
    "### Análisis de la edad de los pacientes ('Patient Age')\n",
    "\n",
    "Se analiza la distribución de los pacientes por edades"
   ]
  },
  {
   "cell_type": "code",
   "execution_count": 11,
   "id": "918aedef-8705-4a09-b131-907d337948a6",
   "metadata": {},
   "outputs": [
    {
     "name": "stdout",
     "output_type": "stream",
     "text": [
      "mode \t\t56\n",
      "count    3500.000000\n",
      "mean       57.854000\n",
      "std        11.724064\n",
      "min         1.000000\n",
      "25%        51.000000\n",
      "50%        59.000000\n",
      "75%        66.000000\n",
      "max        91.000000\n",
      "Name: Patient Age, dtype: float64\n"
     ]
    }
   ],
   "source": [
    "print(f\"mode \\t\\t{df['Patient Age'].value_counts().index.astype(int)[0]}\")\n",
    "print(df['Patient Age'].describe())"
   ]
  },
  {
   "cell_type": "markdown",
   "id": "5a6e1940-ad1f-4875-bd1c-c3e6a096222e",
   "metadata": {},
   "source": [
    "Los valores presentan una distribución unimodal ligeramente sesgada a la izquierda??\n",
    "\n",
    "Distribución aproximadamente unimodal, ligera cola derecha (mayores de 75 años)?? "
   ]
  },
  {
   "cell_type": "code",
   "execution_count": 12,
   "id": "f48badee-49bd-4e11-8e9d-96dbe9d2d867",
   "metadata": {},
   "outputs": [],
   "source": [
    "### ??? Me da la impresión que la distribución es unimodal y que la cola es hacia valores de edad menores (izquierda) ???"
   ]
  },
  {
   "cell_type": "code",
   "execution_count": 13,
   "id": "c5e0b0c5",
   "metadata": {},
   "outputs": [
    {
     "data": {
      "image/png": "[encoded data removed]",
      "text/plain": [
       "<Figure size 800x300 with 1 Axes>"
      ]
     },
     "metadata": {},
     "output_type": "display_data"
    }
   ],
   "source": [
    "plt.figure(figsize=(8, 3))\n",
    "df[\"Patient Age\"].hist(bins=50, edgecolor='black')\n",
    "plt.title('Distribución de la Edad del Paciente')\n",
    "plt.xlabel('Edad')\n",
    "plt.show()"
   ]
  },
  {
   "cell_type": "markdown",
   "id": "4cba0790-059c-44e9-b47f-805ecbe8dbd5",
   "metadata": {},
   "source": [
    "| Métrica | Valor (años) |\n",
    "|---------|:-------:|\n",
    "| Min  | 1  |\n",
    "| Max | 91 |\n",
    "| Media | 57.8 |\n",
    "| Mediana |  59 |\n",
    "| Moda | 56 |"
   ]
  },
  {
   "cell_type": "markdown",
   "id": "d3d47492-5617-47e3-add3-969ba263d887",
   "metadata": {},
   "source": [
    "En los datos aparecen 16 pacientes con un año de edad. Todos ellos presentan alguna patología que podría darse en niños."
   ]
  },
  {
   "cell_type": "code",
   "execution_count": 14,
   "id": "f7d6f31f-797a-430f-b0e1-5be60ac268ec",
   "metadata": {},
   "outputs": [],
   "source": [
    "### COMENTAR CON EL EQUIPO. ERROR EN LA ANOTACIÓN???\n",
    "### LOS DIAGNÓSTICOS ANOTADOS PARECE SER QUE SE PUEDEN DAR EN NIÑOS"
   ]
  },
  {
   "cell_type": "code",
   "execution_count": 37,
   "id": "8e3fdb0c",
   "metadata": {},
   "outputs": [
    {
     "name": "stdout",
     "output_type": "stream",
     "text": [
      "Número de pacientes con un año: 16\n",
      "\n"
     ]
    },
    {
     "data": {
      "text/html": [
       "<div>\n",
       "<style scoped>\n",
       "    .dataframe tbody tr th:only-of-type {\n",
       "        vertical-align: middle;\n",
       "    }\n",
       "\n",
       "    .dataframe tbody tr th {\n",
       "        vertical-align: top;\n",
       "    }\n",
       "\n",
       "    .dataframe thead th {\n",
       "        text-align: right;\n",
       "    }\n",
       "</style>\n",
       "<table border=\"1\" class=\"dataframe\">\n",
       "  <thead>\n",
       "    <tr style=\"text-align: right;\">\n",
       "      <th></th>\n",
       "      <th>ID</th>\n",
       "      <th>Patient Age</th>\n",
       "      <th>Patient Sex</th>\n",
       "      <th>Left-Fundus</th>\n",
       "      <th>Right-Fundus</th>\n",
       "      <th>Left-Diagnostic Keywords</th>\n",
       "      <th>Right-Diagnostic Keywords</th>\n",
       "      <th>N</th>\n",
       "      <th>D</th>\n",
       "      <th>G</th>\n",
       "      <th>C</th>\n",
       "      <th>A</th>\n",
       "      <th>H</th>\n",
       "      <th>M</th>\n",
       "      <th>O</th>\n",
       "    </tr>\n",
       "  </thead>\n",
       "  <tbody>\n",
       "    <tr>\n",
       "      <th>1169</th>\n",
       "      <td>1242</td>\n",
       "      <td>1</td>\n",
       "      <td>Female</td>\n",
       "      <td>1242_left.jpg</td>\n",
       "      <td>1242_right.jpg</td>\n",
       "      <td>chorioretinal atrophy</td>\n",
       "      <td>normal fundus</td>\n",
       "      <td>0</td>\n",
       "      <td>0</td>\n",
       "      <td>0</td>\n",
       "      <td>0</td>\n",
       "      <td>0</td>\n",
       "      <td>0</td>\n",
       "      <td>0</td>\n",
       "      <td>1</td>\n",
       "    </tr>\n",
       "    <tr>\n",
       "      <th>1383</th>\n",
       "      <td>1563</td>\n",
       "      <td>1</td>\n",
       "      <td>Female</td>\n",
       "      <td>1563_left.jpg</td>\n",
       "      <td>1563_right.jpg</td>\n",
       "      <td>pathological myopia</td>\n",
       "      <td>pathological myopia</td>\n",
       "      <td>0</td>\n",
       "      <td>0</td>\n",
       "      <td>0</td>\n",
       "      <td>0</td>\n",
       "      <td>0</td>\n",
       "      <td>0</td>\n",
       "      <td>1</td>\n",
       "      <td>0</td>\n",
       "    </tr>\n",
       "    <tr>\n",
       "      <th>1384</th>\n",
       "      <td>1564</td>\n",
       "      <td>1</td>\n",
       "      <td>Female</td>\n",
       "      <td>1564_left.jpg</td>\n",
       "      <td>1564_right.jpg</td>\n",
       "      <td>pathological myopia</td>\n",
       "      <td>pathological myopia</td>\n",
       "      <td>0</td>\n",
       "      <td>0</td>\n",
       "      <td>0</td>\n",
       "      <td>0</td>\n",
       "      <td>0</td>\n",
       "      <td>0</td>\n",
       "      <td>1</td>\n",
       "      <td>0</td>\n",
       "    </tr>\n",
       "    <tr>\n",
       "      <th>1385</th>\n",
       "      <td>1565</td>\n",
       "      <td>1</td>\n",
       "      <td>Female</td>\n",
       "      <td>1565_left.jpg</td>\n",
       "      <td>1565_right.jpg</td>\n",
       "      <td>pathological myopia</td>\n",
       "      <td>pathological myopia</td>\n",
       "      <td>0</td>\n",
       "      <td>0</td>\n",
       "      <td>0</td>\n",
       "      <td>0</td>\n",
       "      <td>0</td>\n",
       "      <td>0</td>\n",
       "      <td>1</td>\n",
       "      <td>0</td>\n",
       "    </tr>\n",
       "    <tr>\n",
       "      <th>1388</th>\n",
       "      <td>1568</td>\n",
       "      <td>1</td>\n",
       "      <td>Female</td>\n",
       "      <td>1568_left.jpg</td>\n",
       "      <td>1568_right.jpg</td>\n",
       "      <td>pathological myopia</td>\n",
       "      <td>pathological myopia</td>\n",
       "      <td>0</td>\n",
       "      <td>0</td>\n",
       "      <td>0</td>\n",
       "      <td>0</td>\n",
       "      <td>0</td>\n",
       "      <td>0</td>\n",
       "      <td>1</td>\n",
       "      <td>0</td>\n",
       "    </tr>\n",
       "  </tbody>\n",
       "</table>\n",
       "</div>"
      ],
      "text/plain": [
       "        ID  Patient Age Patient Sex    Left-Fundus    Right-Fundus  \\\n",
       "1169  1242            1      Female  1242_left.jpg  1242_right.jpg   \n",
       "1383  1563            1      Female  1563_left.jpg  1563_right.jpg   \n",
       "1384  1564            1      Female  1564_left.jpg  1564_right.jpg   \n",
       "1385  1565            1      Female  1565_left.jpg  1565_right.jpg   \n",
       "1388  1568            1      Female  1568_left.jpg  1568_right.jpg   \n",
       "\n",
       "     Left-Diagnostic Keywords Right-Diagnostic Keywords  N  D  G  C  A  H  M  \\\n",
       "1169    chorioretinal atrophy             normal fundus  0  0  0  0  0  0  0   \n",
       "1383      pathological myopia       pathological myopia  0  0  0  0  0  0  1   \n",
       "1384      pathological myopia       pathological myopia  0  0  0  0  0  0  1   \n",
       "1385      pathological myopia       pathological myopia  0  0  0  0  0  0  1   \n",
       "1388      pathological myopia       pathological myopia  0  0  0  0  0  0  1   \n",
       "\n",
       "      O  \n",
       "1169  1  \n",
       "1383  0  \n",
       "1384  0  \n",
       "1385  0  \n",
       "1388  0  "
      ]
     },
     "execution_count": 37,
     "metadata": {},
     "output_type": "execute_result"
    }
   ],
   "source": [
    "print(f'Número de pacientes con un año: {(df[\"Patient Age\"] < 10).sum()}\\n')\n",
    "df[df[\"Patient Age\"] < 10].head(5)"
   ]
  },
  {
   "cell_type": "markdown",
   "id": "7ea8b128-4aec-4789-9c2b-ada60302a1fc",
   "metadata": {},
   "source": [
    "El resto de pacientes presentan una edad superior o igual a 14 años."
   ]
  },
  {
   "cell_type": "code",
   "execution_count": 13,
   "id": "d631e185",
   "metadata": {},
   "outputs": [
    {
     "data": {
      "text/html": [
       "<div>\n",
       "<style scoped>\n",
       "    .dataframe tbody tr th:only-of-type {\n",
       "        vertical-align: middle;\n",
       "    }\n",
       "\n",
       "    .dataframe tbody tr th {\n",
       "        vertical-align: top;\n",
       "    }\n",
       "\n",
       "    .dataframe thead th {\n",
       "        text-align: right;\n",
       "    }\n",
       "</style>\n",
       "<table border=\"1\" class=\"dataframe\">\n",
       "  <thead>\n",
       "    <tr style=\"text-align: right;\">\n",
       "      <th></th>\n",
       "      <th>ID</th>\n",
       "      <th>Patient Age</th>\n",
       "      <th>Patient Sex</th>\n",
       "      <th>Left-Fundus</th>\n",
       "      <th>Right-Fundus</th>\n",
       "      <th>Left-Diagnostic Keywords</th>\n",
       "      <th>Right-Diagnostic Keywords</th>\n",
       "      <th>N</th>\n",
       "      <th>D</th>\n",
       "      <th>G</th>\n",
       "      <th>C</th>\n",
       "      <th>A</th>\n",
       "      <th>H</th>\n",
       "      <th>M</th>\n",
       "      <th>O</th>\n",
       "    </tr>\n",
       "  </thead>\n",
       "  <tbody>\n",
       "    <tr>\n",
       "      <th>2265</th>\n",
       "      <td>2888</td>\n",
       "      <td>14</td>\n",
       "      <td>Female</td>\n",
       "      <td>2888_left.jpg</td>\n",
       "      <td>2888_right.jpg</td>\n",
       "      <td>normal fundus</td>\n",
       "      <td>normal fundus</td>\n",
       "      <td>1</td>\n",
       "      <td>0</td>\n",
       "      <td>0</td>\n",
       "      <td>0</td>\n",
       "      <td>0</td>\n",
       "      <td>0</td>\n",
       "      <td>0</td>\n",
       "      <td>0</td>\n",
       "    </tr>\n",
       "    <tr>\n",
       "      <th>2410</th>\n",
       "      <td>3033</td>\n",
       "      <td>15</td>\n",
       "      <td>Male</td>\n",
       "      <td>3033_left.jpg</td>\n",
       "      <td>3033_right.jpg</td>\n",
       "      <td>normal fundus</td>\n",
       "      <td>normal fundus</td>\n",
       "      <td>1</td>\n",
       "      <td>0</td>\n",
       "      <td>0</td>\n",
       "      <td>0</td>\n",
       "      <td>0</td>\n",
       "      <td>0</td>\n",
       "      <td>0</td>\n",
       "      <td>0</td>\n",
       "    </tr>\n",
       "    <tr>\n",
       "      <th>3242</th>\n",
       "      <td>4392</td>\n",
       "      <td>17</td>\n",
       "      <td>Male</td>\n",
       "      <td>4392_left.jpg</td>\n",
       "      <td>4392_right.jpg</td>\n",
       "      <td>normal fundus</td>\n",
       "      <td>mild nonproliferative retinopathy</td>\n",
       "      <td>0</td>\n",
       "      <td>1</td>\n",
       "      <td>0</td>\n",
       "      <td>0</td>\n",
       "      <td>0</td>\n",
       "      <td>0</td>\n",
       "      <td>0</td>\n",
       "      <td>0</td>\n",
       "    </tr>\n",
       "    <tr>\n",
       "      <th>2924</th>\n",
       "      <td>4047</td>\n",
       "      <td>18</td>\n",
       "      <td>Female</td>\n",
       "      <td>4047_left.jpg</td>\n",
       "      <td>4047_right.jpg</td>\n",
       "      <td>mild nonproliferative retinopathy</td>\n",
       "      <td>mild nonproliferative retinopathy</td>\n",
       "      <td>0</td>\n",
       "      <td>1</td>\n",
       "      <td>0</td>\n",
       "      <td>0</td>\n",
       "      <td>0</td>\n",
       "      <td>0</td>\n",
       "      <td>0</td>\n",
       "      <td>0</td>\n",
       "    </tr>\n",
       "    <tr>\n",
       "      <th>2280</th>\n",
       "      <td>2903</td>\n",
       "      <td>19</td>\n",
       "      <td>Male</td>\n",
       "      <td>2903_left.jpg</td>\n",
       "      <td>2903_right.jpg</td>\n",
       "      <td>normal fundus</td>\n",
       "      <td>normal fundus</td>\n",
       "      <td>1</td>\n",
       "      <td>0</td>\n",
       "      <td>0</td>\n",
       "      <td>0</td>\n",
       "      <td>0</td>\n",
       "      <td>0</td>\n",
       "      <td>0</td>\n",
       "      <td>0</td>\n",
       "    </tr>\n",
       "  </tbody>\n",
       "</table>\n",
       "</div>"
      ],
      "text/plain": [
       "        ID  Patient Age Patient Sex    Left-Fundus    Right-Fundus  \\\n",
       "2265  2888           14      Female  2888_left.jpg  2888_right.jpg   \n",
       "2410  3033           15        Male  3033_left.jpg  3033_right.jpg   \n",
       "3242  4392           17        Male  4392_left.jpg  4392_right.jpg   \n",
       "2924  4047           18      Female  4047_left.jpg  4047_right.jpg   \n",
       "2280  2903           19        Male  2903_left.jpg  2903_right.jpg   \n",
       "\n",
       "               Left-Diagnostic Keywords          Right-Diagnostic Keywords  N  \\\n",
       "2265                      normal fundus                      normal fundus  1   \n",
       "2410                      normal fundus                      normal fundus  1   \n",
       "3242                      normal fundus  mild nonproliferative retinopathy  0   \n",
       "2924  mild nonproliferative retinopathy  mild nonproliferative retinopathy  0   \n",
       "2280                      normal fundus                      normal fundus  1   \n",
       "\n",
       "      D  G  C  A  H  M  O  \n",
       "2265  0  0  0  0  0  0  0  \n",
       "2410  0  0  0  0  0  0  0  \n",
       "3242  1  0  0  0  0  0  0  \n",
       "2924  1  0  0  0  0  0  0  \n",
       "2280  0  0  0  0  0  0  0  "
      ]
     },
     "execution_count": 13,
     "metadata": {},
     "output_type": "execute_result"
    }
   ],
   "source": [
    "df[df[\"Patient Age\"] > 1].sort_values(by=\"Patient Age\", ascending=True).head()"
   ]
  },
  {
   "cell_type": "markdown",
   "id": "3c8e8694-df1f-4834-8eff-97c329e88de7",
   "metadata": {},
   "source": [
    "### Análisis del sexo de los pacientes ('Patient Sex')\n",
    "\n",
    "El número de muestras para hombres (54%) es mayor que el de mujeres (46%)\n",
    "  \n",
    "| Sexo | Recuento | Porcentaje |\n",
    "|------|----------|------------|\n",
    "| Femenino | 1 620 | 46 % |\n",
    "| Masculino | 1 880 | 54 % |\n",
    "| **Total** | **3 500** | 100 % |"
   ]
  },
  {
   "cell_type": "markdown",
   "id": "2666d0b4-91f9-457a-8f6e-50291a66659c",
   "metadata": {},
   "source": [
    "En el gráfico de barras que se muestra a continuación se observa claramente esta distribución de los pacientes según el sexo."
   ]
  },
  {
   "cell_type": "code",
   "execution_count": 14,
   "id": "5a3ee423",
   "metadata": {},
   "outputs": [
    {
     "data": {
      "image/png": "[encoded data removed]",
      "text/plain": [
       "<Figure size 800x300 with 1 Axes>"
      ]
     },
     "metadata": {},
     "output_type": "display_data"
    }
   ],
   "source": [
    "count = df['Patient Sex'].apply(lambda x: 'M' if x == 'Male' else 'F').value_counts().reindex(['F','M'])\n",
    "plt.figure(figsize=(8, 3))\n",
    "count.plot.bar(color = ['thistle', 'wheat'])\n",
    "plt.title('Distribución de pacientes por sexo')\n",
    "plt.xlabel('')\n",
    "plt.xticks(rotation=0)\n",
    "plt.ylabel('Número de pacientes')\n",
    "plt.show()"
   ]
  },
  {
   "cell_type": "markdown",
   "id": "935b9aa7-751f-4831-ad45-560fdc8c7acb",
   "metadata": {},
   "source": [
    "### Análisis de las enfermedades anotadas ('N', 'D', 'G', 'C', 'A', 'H', 'M', 'O')\n",
    "\n",
    "En los datos aparecen ocho columnas en las que se anota las enfermedades detectadas en cada paciente. A continuación se realiza una descripción de cada anotación."
   ]
  },
  {
   "cell_type": "markdown",
   "id": "ab994925-fca1-4a0b-97d5-c0487324f2d0",
   "metadata": {},
   "source": [
    "| Etiqueta | Enfermedad (ES / EN)                                                              | Descripción corta                                                                                                                             |\n",
    "| -------- | --------------------------------------------------------------------------------- | --------------------------------------------------------------------------------------------------------------------------------------------- |\n",
    "| **N**    | Normal                                                                            | Fondo de ojo sin hallazgos patológicos: vasos, mácula y nervio óptico se ven “de libro”.                                                      |\n",
    "| **D**    | Retinopatía diabética / Diabetic Retinopathy                                      | Daño progresivo en los vasos de la retina por la diabetes; puede causar hemorragias, edema macular y pérdida de visión.                       |\n",
    "| **G**    | Glaucoma                                                                          | Lesión del nervio óptico (normalmente por presión intraocular alta); afecta primero la visión periférica y, sin tratamiento, lleva a ceguera. |\n",
    "| **C**    | Catarata / Cataract                                                               | Opacidad del cristalino que nubla la visión; causa prevenible de ceguera, se soluciona con cirugía de reemplazo de lente.                     |\n",
    "| **A**    | Degeneración macular asociada a la edad (DMAE) / Age-related Macular Degeneration | Deterioro de la mácula que borra la visión central (leer, reconocer caras).                                                                   |\n",
    "| **H**    | Retinopatía hipertensiva / Hypertensive Retinopathy                               | Lesiones en los vasos retinianos por hipertensión crónica; provoca hemorragias, exudados y visión borrosa.                                    |\n",
    "| **M**    | Miopía patológica / Pathologic Myopia                                             | Miopía muy alta que adelgaza y estira la retina, aumentando riesgo de desprendimiento y otras complicaciones.                                 |\n",
    "| **O**    | Otras anomalías / Other Abnormalities                                             | Cajón de sastre: cualquier hallazgo que no encaje en las categorías anteriores (p. ej. oclusión arterial, membrana epirretiniana).            |\n"
   ]
  },
  {
   "cell_type": "markdown",
   "id": "a2ee0b3f-7789-4cff-9ffb-4e98803fe433",
   "metadata": {},
   "source": [
    "Se analiza la distribución de pacientes por enfermedades y se observa que la anotación más común es el estado normal (N), presente en un 33% de los pacientes. La enfermedad anotada más común es la retinopatía diabética (D), que aparece en un 32% de los pacientes. El resto de enfermedades anotadas se presentan de forma minoritaria con un porcentaje inferior al 7%. La anotación 'Other Abnormalities' aparece en el 28% de los pacientes."
   ]
  },
  {
   "cell_type": "code",
   "execution_count": 15,
   "id": "26f9ecb7",
   "metadata": {},
   "outputs": [
    {
     "data": {
      "image/png": "[encoded data removed]",
      "text/plain": [
       "<Figure size 800x300 with 1 Axes>"
      ]
     },
     "metadata": {},
     "output_type": "display_data"
    }
   ],
   "source": [
    "disease_cols = ['N', 'D', 'G', 'C', 'A', 'H', 'M', 'O']\n",
    "\n",
    "disease_counts = df[disease_cols].sum().sort_values(ascending=False)/df.shape[0]\n",
    "plt.figure(figsize=(8, 3))\n",
    "set2_colors = plt.cm.Set2.colors\n",
    "plt.bar(disease_counts.index, disease_counts.values, color = set2_colors)\n",
    "plt.title('Proporción de pacientes por enfermedad')\n",
    "plt.xlabel('Enfermedad')\n",
    "plt.ylabel('Proporción de pacientes')\n",
    "plt.show()"
   ]
  },
  {
   "cell_type": "markdown",
   "id": "62ebce61-0cac-4069-b1af-39433241e55e",
   "metadata": {},
   "source": [
    "####  Distribución de pacientes por sexo y enfermedad\n",
    "\n",
    "Se observa la distribución que presentan los pacientes según el sexo en las diferentes enfermedades. Se divide el número de pacientes por sexo y enfermedad por el número de casos en cada enfermedad. En la representación de estas proporciones se observa que el género masculino tiene mayor representación en la condición normal y en la mayoría de las enfermedades. Sólo en las anotaciones de catarátas (C) y miopía patológica (M) tienen mayor representación las mujeres. A la hora de valorar estos resultados hay que tener en cuenta que de partida el número de pacientes de genero masculino es mayor."
   ]
  },
  {
   "cell_type": "code",
   "execution_count": 16,
   "id": "2b987a7d-5ba6-486f-b3a6-cf59c88910f0",
   "metadata": {},
   "outputs": [
    {
     "data": {
      "image/png": "[encoded data removed]",
      "text/plain": [
       "<Figure size 1000x300 with 1 Axes>"
      ]
     },
     "metadata": {},
     "output_type": "display_data"
    }
   ],
   "source": [
    "disease_cols = ['N', 'D', 'G', 'C', 'A', 'H', 'M', 'O']\n",
    "# Numero de pacientes para cada enfermedad\n",
    "disease_counts = df[disease_cols].sum()\n",
    "# Numero de pacientes para cada sexo por enfermedad\n",
    "df_sex_disease_num = df.groupby('Patient Sex')[disease_cols].sum()\n",
    "# Proporción de pacientes para cada sexo por enfermedad\n",
    "df_sex_disease_prop = df_sex_disease_num/disease_counts\n",
    "# Reorganización para plotear\n",
    "df_sex_disease_prop = df_sex_disease_prop.reset_index()\n",
    "df_melted = pd.melt(df_sex_disease_prop,\n",
    "        id_vars = ['Patient Sex'],          # Keep sex column as identifier\n",
    "        value_vars = disease_cols,  # Columns to melt\n",
    "        var_name = 'Disease',    # Name for the new variable column\n",
    "        value_name='Prop Patients'        # Name for the value column\n",
    ")\n",
    "df_melted['Patient Sex'] = df_melted['Patient Sex'].apply(lambda x: 'M' if x == 'Male' else 'F')\n",
    "# bar plot\n",
    "plt.figure(figsize=(10, 3))\n",
    "sns.barplot(\n",
    "    x='Disease', \n",
    "    y='Prop Patients', \n",
    "    hue='Patient Sex',\n",
    "    data=df_melted,\n",
    "    palette={'M': 'wheat', 'F': 'thistle'},  # Custom colors\n",
    ")\n",
    "plt.title('Proporción de pacientes por enfermedad y sexo', pad=20)\n",
    "plt.xlabel('Enfermedad', labelpad=10)\n",
    "plt.ylabel('Proporción de pacientes', labelpad=10)\n",
    "plt.legend(title='Sexo')\n",
    "plt.ylim(0, 1.0)\n",
    "\n",
    "plt.tight_layout()\n",
    "plt.show()\n",
    "    "
   ]
  },
  {
   "cell_type": "markdown",
   "id": "cab502e7-038b-41bb-a7f7-20a308110149",
   "metadata": {},
   "source": [
    "#### Test de independencia entre sexo del paciente y presencia de enfermedad\n",
    "\n",
    "- Definimos una lista de enfermedades (sin incluir `'N'` ya que nos indica que es normal).\n",
    "- Para cada enfermedad:\n",
    "  - Construimos una tabla de contingencia cruzando `Patient Sex` con la presencia (1) o ausencia (0) de la enfermedad.\n",
    "  - Calculamos la tabla de proporciones dividiendo por el total de pacientes por sexo (variable `patient_sex`).\n",
    "  - Ejecutamos la prueba chi-cuadrado de independencia (`chi2_contingency`) para evaluar si la distribución del sexo es independiente de la presencia de la enfermedad."
   ]
  },
  {
   "cell_type": "code",
   "execution_count": 17,
   "id": "ab2d5c31-b760-4071-bcb1-9f79c4b69578",
   "metadata": {},
   "outputs": [
    {
     "data": {
      "text/html": [
       "<div>\n",
       "<style scoped>\n",
       "    .dataframe tbody tr th:only-of-type {\n",
       "        vertical-align: middle;\n",
       "    }\n",
       "\n",
       "    .dataframe tbody tr th {\n",
       "        vertical-align: top;\n",
       "    }\n",
       "\n",
       "    .dataframe thead th {\n",
       "        text-align: right;\n",
       "    }\n",
       "</style>\n",
       "<table border=\"1\" class=\"dataframe\">\n",
       "  <thead>\n",
       "    <tr style=\"text-align: right;\">\n",
       "      <th></th>\n",
       "      <th>Enfermedad</th>\n",
       "      <th>p-valor</th>\n",
       "      <th>Significancia</th>\n",
       "    </tr>\n",
       "  </thead>\n",
       "  <tbody>\n",
       "    <tr>\n",
       "      <th>0</th>\n",
       "      <td>D</td>\n",
       "      <td>0.110596</td>\n",
       "      <td></td>\n",
       "    </tr>\n",
       "    <tr>\n",
       "      <th>1</th>\n",
       "      <td>G</td>\n",
       "      <td>0.218863</td>\n",
       "      <td></td>\n",
       "    </tr>\n",
       "    <tr>\n",
       "      <th>2</th>\n",
       "      <td>C</td>\n",
       "      <td>0.000452</td>\n",
       "      <td>***</td>\n",
       "    </tr>\n",
       "    <tr>\n",
       "      <th>3</th>\n",
       "      <td>A</td>\n",
       "      <td>1.000000</td>\n",
       "      <td></td>\n",
       "    </tr>\n",
       "    <tr>\n",
       "      <th>4</th>\n",
       "      <td>H</td>\n",
       "      <td>0.070124</td>\n",
       "      <td></td>\n",
       "    </tr>\n",
       "    <tr>\n",
       "      <th>5</th>\n",
       "      <td>M</td>\n",
       "      <td>0.000005</td>\n",
       "      <td>***</td>\n",
       "    </tr>\n",
       "    <tr>\n",
       "      <th>6</th>\n",
       "      <td>O</td>\n",
       "      <td>0.035983</td>\n",
       "      <td>*</td>\n",
       "    </tr>\n",
       "  </tbody>\n",
       "</table>\n",
       "</div>"
      ],
      "text/plain": [
       "  Enfermedad   p-valor Significancia\n",
       "0          D  0.110596              \n",
       "1          G  0.218863              \n",
       "2          C  0.000452           ***\n",
       "3          A  1.000000              \n",
       "4          H  0.070124              \n",
       "5          M  0.000005           ***\n",
       "6          O  0.035983             *"
      ]
     },
     "execution_count": 17,
     "metadata": {},
     "output_type": "execute_result"
    }
   ],
   "source": [
    "# Enfermedades sin 'N'\n",
    "diseases = ['D', 'G', 'C', 'A', 'H', 'M', 'O']\n",
    "\n",
    "sex_results = []\n",
    "\n",
    "for disease in diseases:\n",
    "    contingency_table = pd.crosstab(df['Patient Sex'], df[disease])\n",
    "    #df_porc = contingency_table.div(patient_sex, axis = 0)\n",
    "    chi2, p, dof, expected = chi2_contingency(contingency_table)\n",
    "    sign = ''\n",
    "    if p < 0.001:\n",
    "        sign = '***'\n",
    "    elif p < 0.01:\n",
    "        sign = '**'\n",
    "    elif p < 0.05:\n",
    "        sign = '*'\n",
    "    sex_results.append({'Enfermedad': disease, 'p-valor': p, 'Significancia':sign})\n",
    "#    print(contingency_table)\n",
    "\n",
    "pd.DataFrame(sex_results)"
   ]
  },
  {
   "cell_type": "markdown",
   "id": "8508b056-542f-473a-9d2a-74c90a4d4bbb",
   "metadata": {},
   "source": [
    "| Símbolo | p-valor       | Interpretación    |\n",
    "|:---------:|------------------|-----------------------------------|\n",
    "|  ***    | **p < 0.001**    | **Muy altamente significativo**   | \n",
    "|  **     | **0.001 ≤ p < 0.01** | **Altamente significativo**    | \n",
    "|  *      | **0.01 ≤ p < 0.05** | **Estadísticamente significativo** |\n",
    "|         | **p ≥ 0.05**     | **No estadísticamente significativo** | "
   ]
  },
  {
   "cell_type": "markdown",
   "id": "1701cae5-7f29-409c-bac3-43f2ca49987f",
   "metadata": {},
   "source": [
    "**Interpretación:**\n",
    "\n",
    "- Un p-valor menor a 0.05 indica que la distribución del sexo está significativamente asociada con la presencia de la enfermedad.\n",
    "- En este caso, las enfermedades de cataratas (C) y miopía patológica (M), así como la presencia de otras enfermedades (O) muestran una asociación significativa con el sexo del paciente, siendo más común este tipo de enfermedades en el grupo de mujeres que en el de hombres.\n",
    "- Para las demás enfermedades, no se detecta asociación significativa.\n",
    "\n",
    "Estos resultados se han obtenido a partir de un conjunto de datos preparado para otro propósito diferente al de valorar la prevalencia de las enfermedades en los diferentes sexos. Al considerar que esta muestra de pacientes no se ha extraido de forma aleatoria sino haciendo una selección de los mismos, los resultados obtenidos no son extrapolables a la población general."
   ]
  },
  {
   "cell_type": "markdown",
   "id": "73a04a1f-d526-44b9-b00c-b23e0b621084",
   "metadata": {},
   "source": [
    "#### Distribución de edades de los pacientes para cada enfermedad\n",
    "\n",
    "Se analiza la distribución de las edades de los pacientes para cada enfermedad anotada. Para todas las enfermedades las edades siguen una distribución normal y se extienden dentro del mismo rango. Aquí también se observa como algunas enfermedades presentan casos a edades muy tempranos como vimos anteriormente. Las cataratas (C), la miopía patológica (M) y el glaucoma (G) tienden a aparecer a edades más tardías, mientras que los pacientes que aparecen anotadas como normales (N) y aquellos que sufren de retinopatía diabética (D) presentan distribuciones centradas en edades inferiores al resto de enfermedades."
   ]
  },
  {
   "cell_type": "code",
   "execution_count": 18,
   "id": "e8f2d537-f2bd-47da-8e54-0655bf4c128c",
   "metadata": {},
   "outputs": [],
   "source": [
    "# ??? A continuación de los histogramas, he ploteado también los density plots para las ocho anotaciones. \n",
    "# ??? Creo que de esta forma los datos se concentran en un sólo plot, es más sencillo visualizar los datos \n",
    "# ??? y la presentación queda más sencilla."
   ]
  },
  {
   "cell_type": "code",
   "execution_count": 19,
   "id": "477ea4fe-1bdd-4c79-932f-9d6fdb1356bc",
   "metadata": {},
   "outputs": [
    {
     "data": {
      "image/png": "[encoded data removed]",
      "text/plain": [
       "<Figure size 1200x1200 with 8 Axes>"
      ]
     },
     "metadata": {},
     "output_type": "display_data"
    }
   ],
   "source": [
    "disease_cols = ['N', 'D', 'G', 'C', 'A', 'H', 'M', 'O']\n",
    "\n",
    "n_cols = 2\n",
    "n_rows = 4\n",
    "plt.figure(figsize=(6 * n_cols, 3 * n_rows))  # Dynamic figure size\n",
    "for i, d in enumerate(disease_cols,start=1):\n",
    "    df_sel = df[df[d] == 1]\n",
    "    plt.subplot(n_rows, n_cols, i)\n",
    "    df_sel[\"Patient Age\"].hist(bins=50, edgecolor='black')\n",
    "    plt.xlim(0,100)\n",
    "    plt.xlabel(d)\n",
    "    plt.ylabel('Número de pacientes')\n",
    "    \n",
    "plt.show()\n"
   ]
  },
  {
   "cell_type": "code",
   "execution_count": 20,
   "id": "d48ba240-5696-407c-8d05-dc521471aacb",
   "metadata": {},
   "outputs": [
    {
     "data": {
      "image/png": "[encoded data removed]",
      "text/plain": [
       "<Figure size 600x500 with 1 Axes>"
      ]
     },
     "metadata": {},
     "output_type": "display_data"
    }
   ],
   "source": [
    "disease_cols = ['N', 'D', 'G', 'C', 'A', 'H', 'M', 'O']\n",
    "\n",
    "disease_order = list(df[disease_cols].sum().sort_values(ascending=False).index)\n",
    "list_df = []\n",
    "for d in disease_order:\n",
    "    list_df.append(pd.DataFrame({'Patient Age':df[df[d] == 1]['Patient Age'],'Disease': d}))\n",
    "\n",
    "df_concat = pd.concat(list_df, axis=0)\n",
    "df_concat['Enfermedad'] = df_concat['Disease']\n",
    "\n",
    "plt.figure(figsize=(6, 5))\n",
    "set2_colors = plt.cm.Set2.colors\n",
    "sns.kdeplot(x='Patient Age', hue = 'Enfermedad' ,fill=False, alpha=0.5, data=df_concat, palette = \"Set2\")\n",
    "plt.xlabel('Edad del paciente')\n",
    "plt.ylabel('Densidad')\n",
    "plt.xlim(0,100)\n",
    "plt.show()\n"
   ]
  },
  {
   "cell_type": "markdown",
   "id": "de288a39-12e1-4c55-8dd7-85b744a856ce",
   "metadata": {},
   "source": [
    "#### Distribución del número de enfermedades por paciente\n",
    "\n",
    "Se analiza como se distribuyen los pacientes según el número de enfermedades que le han sido diagnosticadas. Los pacientes que no presentan ninguna enfermedad son aquellos que han sido anotados con valor '1' en la columna 'N' y representan, como ya se comprobó, el 33% de los pacientes. La mayoría de los pacientes con alguna enfermedad anotada presentan una única enfermedad (51%). El 16% de los pacientes presentan dos enfermedades anotadas y un pequeño número de pacientes, menos del 1%, presentan tres enfermedades. No aparecen pacientes con más de tres enfermedades anotadas."
   ]
  },
  {
   "cell_type": "code",
   "execution_count": 21,
   "id": "cd8ff5e4-ae06-4766-8f68-55ea461206ad",
   "metadata": {},
   "outputs": [
    {
     "data": {
      "image/png": "[encoded data removed]",
      "text/plain": [
       "<Figure size 600x300 with 1 Axes>"
      ]
     },
     "metadata": {},
     "output_type": "display_data"
    }
   ],
   "source": [
    "disease_cols = ['D', 'G', 'C', 'A', 'H', 'M', 'O']\n",
    "\n",
    "count_disease_patient = df[disease_cols].sum(axis=1).value_counts()\n",
    "prop_disease_patient = (count_disease_patient/df.shape[0]).reindex([0,1,2,3])\n",
    "plt.figure(figsize=(6, 3))\n",
    "prop_disease_patient.plot.bar()\n",
    "plt.title('Proporción de pacientes según número de enfermedades')\n",
    "plt.xlabel('Número de enfermedades')\n",
    "plt.xticks(rotation=0)\n",
    "plt.ylabel('Proporción de pacientes')\n",
    "plt.show()"
   ]
  },
  {
   "cell_type": "markdown",
   "id": "a98f19a7-163a-4bd7-9766-ac7ccd5a82fc",
   "metadata": {},
   "source": [
    "### Análisis de diagnósticos ('Left-Diagnostic Keywords' y 'Right-Diagnostic Keywords')\n",
    "\n",
    "En los datos hay dos columnas en las que se describen los diagnósticos en cada ojo. Se trataría de una descripción más detallada de lo que posteriormente se refleja en las columnas de enfermedades. En algunos casos las anotaciones no tienen que ver con el diagnóstico sino con incidencias en las imágenes.\n",
    "\n",
    "En las columnas aparecen un total de 102 diagnósticos únicos, siendo el más común 'normal fundus'. Entre los diagnósticos más comunes aparece también 'lens dust' que hace referencia a un artefacto un las imágenes."
   ]
  },
  {
   "cell_type": "code",
   "execution_count": 22,
   "id": "54c0cf98-d7fc-4d63-9093-63f936a66937",
   "metadata": {},
   "outputs": [
    {
     "name": "stdout",
     "output_type": "stream",
     "text": [
      "Número total de diagnósticos distintos: 102\n",
      "\n",
      "Top 10 diagnósticos más frequentes:\n",
      "-----------------------------------\n",
      "normal fundus                             3100\n",
      "moderate non proliferative retinopathy     997\n",
      "mild nonproliferative retinopathy          552\n",
      "lens dust                                  408\n",
      "cataract                                   313\n",
      "glaucoma                                   282\n",
      "pathological myopia                        246\n",
      "dry age-related macular degeneration       228\n",
      "macular epiretinal membrane                201\n",
      "hypertensive retinopathy                   193\n",
      "Name: count, dtype: int64\n"
     ]
    }
   ],
   "source": [
    "def contar_diagnosticos(df, columnas):\n",
    "    \"\"\"\n",
    "    Devuelve los diagnósticos únicos en las columnas indicadas \n",
    "    y el número de veces que aparecen los diagnósticos\n",
    "    \"\"\"\n",
    "    # Patrón que contempla:\n",
    "    #   ,  -> coma ASCII\n",
    "    #   ， -> coma china U+FF0C\n",
    "    #   ;  -> punto y coma (opcional, por si acaso)\n",
    "    separadores = r'[,\\uFF0C;]\\s*'\n",
    "    s = (\n",
    "        df[columnas]\n",
    "          .stack()            # junta las columnas en un único Series\n",
    "          .astype(str)        # asegura que todo es string\n",
    "          .str.split(separadores, regex=True, expand=False)  # <-- AQUÍ EL CAMBIO\n",
    "          .explode()          # cada elemento en su propia fila\n",
    "          .str.strip()        # quita espacios al inicio/fin\n",
    "          .str.lower()        # homogeneiza mayúsculas/minúsculas\n",
    "    )\n",
    "\n",
    "    s = s[s != '']            # elimina cadenas vacías\n",
    "    recuento = s.value_counts()\n",
    "    return recuento\n",
    "    \n",
    "cols = [\"Left-Diagnostic Keywords\", \"Right-Diagnostic Keywords\"]\n",
    "conteo_diagn = contar_diagnosticos(df, cols)\n",
    "print(f\"Número total de diagnósticos distintos: {conteo_diagn.size}\\n\")\n",
    "print('Top 10 diagnósticos más frequentes:')\n",
    "print('-----------------------------------')\n",
    "print(conteo_diagn.head(10))"
   ]
  },
  {
   "cell_type": "markdown",
   "id": "7debce6d-97fc-4abe-8218-e39f028d3d83",
   "metadata": {},
   "source": [
    "La mayor parte de los diagnósticos aparecen muy pocas veces, por ejemplo, el 80% de los diagnósticos aparece en menos de 40 imágenes de un total de 7000."
   ]
  },
  {
   "cell_type": "code",
   "execution_count": 23,
   "id": "76395dd1-a6e6-487c-8d2f-a89e6b6a1fcd",
   "metadata": {},
   "outputs": [
    {
     "name": "stdout",
     "output_type": "stream",
     "text": [
      "Porcentaje de diagnósticos que aparecen menos de 40 veces: 80.4%\n"
     ]
    },
    {
     "data": {
      "image/png": "[encoded data removed]",
      "text/plain": [
       "<Figure size 500x400 with 1 Axes>"
      ]
     },
     "metadata": {},
     "output_type": "display_data"
    }
   ],
   "source": [
    "print(f'Porcentaje de diagnósticos que aparecen menos de 40 veces: {sum(conteo_diagn < 40)/conteo_diagn.size*100:.1f}%')\n",
    "plt.figure(figsize=(5,4))\n",
    "sns.kdeplot(fill=True, data=conteo_diagn[conteo_diagn < 1000])\n",
    "plt.xlim(1,1000)\n",
    "plt.title('Distribución del número de apariciones de los diagnósticos')\n",
    "plt.xlabel('Número de apariciones de diagnósticos')\n",
    "plt.xticks(rotation=0)\n",
    "plt.ylabel('Densidad')\n",
    "plt.show()"
   ]
  },
  {
   "cell_type": "code",
   "execution_count": 24,
   "id": "bb1635a6-6c53-4878-83a1-5dc3df3ded75",
   "metadata": {},
   "outputs": [],
   "source": [
    "# ??? He cambiado el enfoque para ver si encajan la anotación de N con los diagnósticos. \n",
    "# ??? Extraigo las anotaciones únicas de todas las muestras con N valor '1' y\n",
    "# ??? compruebo que no haya ninguna relacionada con una enfermedad"
   ]
  },
  {
   "cell_type": "markdown",
   "id": "eb469b86-05b4-4825-9084-163b5ba37b68",
   "metadata": {},
   "source": [
    "Se comprueba que la anotación de la columna 'N' y los diagnósticos concuerdan, de forma que no haya ningún diagnóstico de enfermedad en un paciente que esté anotado como normal ('N' con valor 1)\n",
    "\n",
    "Además del diagnóstico 'normal fundus' aparecen dos diagnósticos más relacionadas con artefactos en las imágenes, 'lens dust' y 'low image quality'."
   ]
  },
  {
   "cell_type": "code",
   "execution_count": 25,
   "id": "bf498f40-9a3b-4d69-9359-c6cf5fbca627",
   "metadata": {},
   "outputs": [
    {
     "name": "stdout",
     "output_type": "stream",
     "text": [
      "normal fundus        2277\n",
      "lens dust             222\n",
      "low image quality       3\n",
      "Name: count, dtype: int64\n"
     ]
    }
   ],
   "source": [
    "cols = [\"Left-Diagnostic Keywords\", \"Right-Diagnostic Keywords\"]\n",
    "conteo_diagn = contar_diagnosticos(df[df['N'] == 1], cols)\n",
    "print(conteo_diagn)"
   ]
  },
  {
   "cell_type": "code",
   "execution_count": 26,
   "id": "21103540-c6f8-476e-8c28-7501535d691c",
   "metadata": {},
   "outputs": [],
   "source": [
    "### Casos con enfermedad 'N' excluyendo \"normal fundus\"\n",
    "\n",
    "#Se aplica un filtro al DataFrame para seleccionar únicamente los registros que cumplen **ambas condiciones**:\n",
    "\n",
    "#1. La enfermedad `'N'` está presente (`N == 1`).\n",
    "#2. La columna `'Left-Diagnostic Keywords'` **no contiene** la expresión `\"normal fundus\"`.\n",
    "\n",
    "#Este filtrado permite identificar casos donde la enfermedad `'N'` está marcada, pero no se menciona que el fondo de ojo izquierdo es normal, #lo cual podría indicar una inconsistencia o un caso clínicamente relevante.\n"
   ]
  },
  {
   "cell_type": "code",
   "execution_count": 27,
   "id": "ed959110-462d-4a71-b46a-7d7a7b8d1186",
   "metadata": {},
   "outputs": [],
   "source": [
    "# Filtro con ambas condiciones:\n",
    "# 1) N == 1\n",
    "# 2) La columna NO contiene \"normal fundus\"\n",
    "#mask = (df[\"N\"] == 1) & (~df[\"Left-Diagnostic Keywords\"].str.contains(\"normal fundus\", na=False))\n",
    "\n",
    "#casos_n = df[mask]\n",
    "\n",
    "# Si solo quieres ver los primeros 5 registros:\n",
    "#casos_n.shape\n",
    "#print(casos_n)"
   ]
  },
  {
   "cell_type": "markdown",
   "id": "42075421-6cd9-4cae-bd08-283777ffee0e",
   "metadata": {},
   "source": [
    "Se buscan diagnósticos que tengan que ver con artefactos en las imágenes buscando las palabras claves 'image' y 'lens' en los diagnósticos. Se encuentran cinco términos que pudieran estar relacionados incidencias técnicas en las imágenes."
   ]
  },
  {
   "cell_type": "code",
   "execution_count": 28,
   "id": "f8f59b3f-04d6-471c-8c5c-dc0680aca525",
   "metadata": {},
   "outputs": [
    {
     "name": "stdout",
     "output_type": "stream",
     "text": [
      "lens dust                 408\n",
      "low image quality          21\n",
      "anterior segment image      2\n",
      "image offset                1\n",
      "no fundus image             1\n",
      "Name: count, dtype: int64\n"
     ]
    }
   ],
   "source": [
    "cols = [\"Left-Diagnostic Keywords\", \"Right-Diagnostic Keywords\"]\n",
    "conteo_diagn = contar_diagnosticos(df, cols)\n",
    "conteo_diagn.index\n",
    "\n",
    "words_to_find = [\"lens\", \"image\"]\n",
    "diagnostics_index = conteo_diagn.index\n",
    "mask = diagnostics_index.str.contains('|'.join(words_to_find), case=False, na=False)\n",
    "print(conteo_diagn[mask])"
   ]
  },
  {
   "cell_type": "markdown",
   "id": "f9b6999c-c61b-47f5-9967-e5b9be3f43c1",
   "metadata": {},
   "source": [
    "Se visualizan las entradas para estos términos y se comprueba el estado de las imágenes que están anotadas así.\n",
    "\n",
    "Estas serían algunas entradas para el término 'lens dust'."
   ]
  },
  {
   "cell_type": "code",
   "execution_count": 29,
   "id": "39ae0d3f-273b-4286-a01a-fb6f6294bb00",
   "metadata": {},
   "outputs": [
    {
     "data": {
      "text/html": [
       "<div>\n",
       "<style scoped>\n",
       "    .dataframe tbody tr th:only-of-type {\n",
       "        vertical-align: middle;\n",
       "    }\n",
       "\n",
       "    .dataframe tbody tr th {\n",
       "        vertical-align: top;\n",
       "    }\n",
       "\n",
       "    .dataframe thead th {\n",
       "        text-align: right;\n",
       "    }\n",
       "</style>\n",
       "<table border=\"1\" class=\"dataframe\">\n",
       "  <thead>\n",
       "    <tr style=\"text-align: right;\">\n",
       "      <th></th>\n",
       "      <th>ID</th>\n",
       "      <th>Patient Age</th>\n",
       "      <th>Patient Sex</th>\n",
       "      <th>Left-Fundus</th>\n",
       "      <th>Right-Fundus</th>\n",
       "      <th>Left-Diagnostic Keywords</th>\n",
       "      <th>Right-Diagnostic Keywords</th>\n",
       "      <th>N</th>\n",
       "      <th>D</th>\n",
       "      <th>G</th>\n",
       "      <th>C</th>\n",
       "      <th>A</th>\n",
       "      <th>H</th>\n",
       "      <th>M</th>\n",
       "      <th>O</th>\n",
       "    </tr>\n",
       "  </thead>\n",
       "  <tbody>\n",
       "    <tr>\n",
       "      <th>20</th>\n",
       "      <td>20</td>\n",
       "      <td>64</td>\n",
       "      <td>Female</td>\n",
       "      <td>20_left.jpg</td>\n",
       "      <td>20_right.jpg</td>\n",
       "      <td>rhegmatogenous retinal detachment</td>\n",
       "      <td>lens dust，normal fundus</td>\n",
       "      <td>0</td>\n",
       "      <td>0</td>\n",
       "      <td>0</td>\n",
       "      <td>0</td>\n",
       "      <td>0</td>\n",
       "      <td>0</td>\n",
       "      <td>0</td>\n",
       "      <td>1</td>\n",
       "    </tr>\n",
       "    <tr>\n",
       "      <th>36</th>\n",
       "      <td>36</td>\n",
       "      <td>55</td>\n",
       "      <td>Male</td>\n",
       "      <td>36_left.jpg</td>\n",
       "      <td>36_right.jpg</td>\n",
       "      <td>lens dust，spotted membranous change</td>\n",
       "      <td>lens dust，normal fundus</td>\n",
       "      <td>0</td>\n",
       "      <td>0</td>\n",
       "      <td>0</td>\n",
       "      <td>0</td>\n",
       "      <td>0</td>\n",
       "      <td>0</td>\n",
       "      <td>0</td>\n",
       "      <td>1</td>\n",
       "    </tr>\n",
       "    <tr>\n",
       "      <th>39</th>\n",
       "      <td>39</td>\n",
       "      <td>74</td>\n",
       "      <td>Male</td>\n",
       "      <td>39_left.jpg</td>\n",
       "      <td>39_right.jpg</td>\n",
       "      <td>pathological myopia</td>\n",
       "      <td>lens dust，pathological myopia</td>\n",
       "      <td>0</td>\n",
       "      <td>0</td>\n",
       "      <td>0</td>\n",
       "      <td>0</td>\n",
       "      <td>0</td>\n",
       "      <td>0</td>\n",
       "      <td>1</td>\n",
       "      <td>0</td>\n",
       "    </tr>\n",
       "    <tr>\n",
       "      <th>57</th>\n",
       "      <td>57</td>\n",
       "      <td>64</td>\n",
       "      <td>Male</td>\n",
       "      <td>57_left.jpg</td>\n",
       "      <td>57_right.jpg</td>\n",
       "      <td>lens dust，normal fundus</td>\n",
       "      <td>lens dust，drusen，normal fundus</td>\n",
       "      <td>0</td>\n",
       "      <td>0</td>\n",
       "      <td>0</td>\n",
       "      <td>0</td>\n",
       "      <td>0</td>\n",
       "      <td>0</td>\n",
       "      <td>0</td>\n",
       "      <td>1</td>\n",
       "    </tr>\n",
       "    <tr>\n",
       "      <th>65</th>\n",
       "      <td>65</td>\n",
       "      <td>56</td>\n",
       "      <td>Male</td>\n",
       "      <td>65_left.jpg</td>\n",
       "      <td>65_right.jpg</td>\n",
       "      <td>epiretinal membrane，lens dust</td>\n",
       "      <td>normal fundus</td>\n",
       "      <td>0</td>\n",
       "      <td>0</td>\n",
       "      <td>0</td>\n",
       "      <td>0</td>\n",
       "      <td>0</td>\n",
       "      <td>0</td>\n",
       "      <td>0</td>\n",
       "      <td>1</td>\n",
       "    </tr>\n",
       "  </tbody>\n",
       "</table>\n",
       "</div>"
      ],
      "text/plain": [
       "    ID  Patient Age Patient Sex  Left-Fundus  Right-Fundus  \\\n",
       "20  20           64      Female  20_left.jpg  20_right.jpg   \n",
       "36  36           55        Male  36_left.jpg  36_right.jpg   \n",
       "39  39           74        Male  39_left.jpg  39_right.jpg   \n",
       "57  57           64        Male  57_left.jpg  57_right.jpg   \n",
       "65  65           56        Male  65_left.jpg  65_right.jpg   \n",
       "\n",
       "               Left-Diagnostic Keywords       Right-Diagnostic Keywords  N  D  \\\n",
       "20    rhegmatogenous retinal detachment         lens dust，normal fundus  0  0   \n",
       "36  lens dust，spotted membranous change         lens dust，normal fundus  0  0   \n",
       "39                  pathological myopia   lens dust，pathological myopia  0  0   \n",
       "57              lens dust，normal fundus  lens dust，drusen，normal fundus  0  0   \n",
       "65        epiretinal membrane，lens dust                   normal fundus  0  0   \n",
       "\n",
       "    G  C  A  H  M  O  \n",
       "20  0  0  0  0  0  1  \n",
       "36  0  0  0  0  0  1  \n",
       "39  0  0  0  0  1  0  \n",
       "57  0  0  0  0  0  1  \n",
       "65  0  0  0  0  0  1  "
      ]
     },
     "execution_count": 29,
     "metadata": {},
     "output_type": "execute_result"
    }
   ],
   "source": [
    "diagnostic = 'lens dust'\n",
    "df[df['Left-Diagnostic Keywords'].str.contains(diagnostic) | df['Right-Diagnostic Keywords'].str.contains(diagnostic)].head(5)"
   ]
  },
  {
   "cell_type": "markdown",
   "id": "d3e32aad-7e1f-4929-883b-335d096adfa8",
   "metadata": {},
   "source": [
    "A continuación se muestran algunas entradas para el término 'low image quality'"
   ]
  },
  {
   "cell_type": "code",
   "execution_count": 30,
   "id": "efeecba6-2c62-4cc2-b3e4-6c8457c75d5d",
   "metadata": {},
   "outputs": [
    {
     "data": {
      "text/html": [
       "<div>\n",
       "<style scoped>\n",
       "    .dataframe tbody tr th:only-of-type {\n",
       "        vertical-align: middle;\n",
       "    }\n",
       "\n",
       "    .dataframe tbody tr th {\n",
       "        vertical-align: top;\n",
       "    }\n",
       "\n",
       "    .dataframe thead th {\n",
       "        text-align: right;\n",
       "    }\n",
       "</style>\n",
       "<table border=\"1\" class=\"dataframe\">\n",
       "  <thead>\n",
       "    <tr style=\"text-align: right;\">\n",
       "      <th></th>\n",
       "      <th>ID</th>\n",
       "      <th>Patient Age</th>\n",
       "      <th>Patient Sex</th>\n",
       "      <th>Left-Fundus</th>\n",
       "      <th>Right-Fundus</th>\n",
       "      <th>Left-Diagnostic Keywords</th>\n",
       "      <th>Right-Diagnostic Keywords</th>\n",
       "      <th>N</th>\n",
       "      <th>D</th>\n",
       "      <th>G</th>\n",
       "      <th>C</th>\n",
       "      <th>A</th>\n",
       "      <th>H</th>\n",
       "      <th>M</th>\n",
       "      <th>O</th>\n",
       "    </tr>\n",
       "  </thead>\n",
       "  <tbody>\n",
       "    <tr>\n",
       "      <th>371</th>\n",
       "      <td>372</td>\n",
       "      <td>52</td>\n",
       "      <td>Female</td>\n",
       "      <td>372_left.jpg</td>\n",
       "      <td>372_right.jpg</td>\n",
       "      <td>low image quality,maculopathy</td>\n",
       "      <td>low image quality</td>\n",
       "      <td>0</td>\n",
       "      <td>0</td>\n",
       "      <td>0</td>\n",
       "      <td>0</td>\n",
       "      <td>0</td>\n",
       "      <td>0</td>\n",
       "      <td>0</td>\n",
       "      <td>1</td>\n",
       "    </tr>\n",
       "    <tr>\n",
       "      <th>2829</th>\n",
       "      <td>3935</td>\n",
       "      <td>45</td>\n",
       "      <td>Male</td>\n",
       "      <td>3935_left.jpg</td>\n",
       "      <td>3935_right.jpg</td>\n",
       "      <td>low image quality</td>\n",
       "      <td>mild nonproliferative retinopathy</td>\n",
       "      <td>0</td>\n",
       "      <td>1</td>\n",
       "      <td>0</td>\n",
       "      <td>0</td>\n",
       "      <td>0</td>\n",
       "      <td>0</td>\n",
       "      <td>0</td>\n",
       "      <td>0</td>\n",
       "    </tr>\n",
       "    <tr>\n",
       "      <th>2840</th>\n",
       "      <td>3947</td>\n",
       "      <td>62</td>\n",
       "      <td>Male</td>\n",
       "      <td>3947_left.jpg</td>\n",
       "      <td>3947_right.jpg</td>\n",
       "      <td>moderate non proliferative retinopathy</td>\n",
       "      <td>low image quality</td>\n",
       "      <td>0</td>\n",
       "      <td>1</td>\n",
       "      <td>0</td>\n",
       "      <td>0</td>\n",
       "      <td>0</td>\n",
       "      <td>0</td>\n",
       "      <td>0</td>\n",
       "      <td>0</td>\n",
       "    </tr>\n",
       "    <tr>\n",
       "      <th>2889</th>\n",
       "      <td>4007</td>\n",
       "      <td>71</td>\n",
       "      <td>Male</td>\n",
       "      <td>4007_left.jpg</td>\n",
       "      <td>4007_right.jpg</td>\n",
       "      <td>low image quality</td>\n",
       "      <td>mild nonproliferative retinopathy</td>\n",
       "      <td>0</td>\n",
       "      <td>1</td>\n",
       "      <td>0</td>\n",
       "      <td>0</td>\n",
       "      <td>0</td>\n",
       "      <td>0</td>\n",
       "      <td>0</td>\n",
       "      <td>0</td>\n",
       "    </tr>\n",
       "    <tr>\n",
       "      <th>2941</th>\n",
       "      <td>4066</td>\n",
       "      <td>80</td>\n",
       "      <td>Female</td>\n",
       "      <td>4066_left.jpg</td>\n",
       "      <td>4066_right.jpg</td>\n",
       "      <td>moderate non proliferative retinopathy</td>\n",
       "      <td>low image quality</td>\n",
       "      <td>0</td>\n",
       "      <td>1</td>\n",
       "      <td>0</td>\n",
       "      <td>0</td>\n",
       "      <td>0</td>\n",
       "      <td>0</td>\n",
       "      <td>0</td>\n",
       "      <td>0</td>\n",
       "    </tr>\n",
       "  </tbody>\n",
       "</table>\n",
       "</div>"
      ],
      "text/plain": [
       "        ID  Patient Age Patient Sex    Left-Fundus    Right-Fundus  \\\n",
       "371    372           52      Female   372_left.jpg   372_right.jpg   \n",
       "2829  3935           45        Male  3935_left.jpg  3935_right.jpg   \n",
       "2840  3947           62        Male  3947_left.jpg  3947_right.jpg   \n",
       "2889  4007           71        Male  4007_left.jpg  4007_right.jpg   \n",
       "2941  4066           80      Female  4066_left.jpg  4066_right.jpg   \n",
       "\n",
       "                    Left-Diagnostic Keywords  \\\n",
       "371            low image quality,maculopathy   \n",
       "2829                       low image quality   \n",
       "2840  moderate non proliferative retinopathy   \n",
       "2889                       low image quality   \n",
       "2941  moderate non proliferative retinopathy   \n",
       "\n",
       "              Right-Diagnostic Keywords  N  D  G  C  A  H  M  O  \n",
       "371                   low image quality  0  0  0  0  0  0  0  1  \n",
       "2829  mild nonproliferative retinopathy  0  1  0  0  0  0  0  0  \n",
       "2840                  low image quality  0  1  0  0  0  0  0  0  \n",
       "2889  mild nonproliferative retinopathy  0  1  0  0  0  0  0  0  \n",
       "2941                  low image quality  0  1  0  0  0  0  0  0  "
      ]
     },
     "execution_count": 30,
     "metadata": {},
     "output_type": "execute_result"
    }
   ],
   "source": [
    "diagnostic = 'low image quality'\n",
    "df[df['Left-Diagnostic Keywords'].str.contains(diagnostic) | df['Right-Diagnostic Keywords'].str.contains(diagnostic)].head(5)"
   ]
  },
  {
   "cell_type": "markdown",
   "id": "392443f9-932c-4c80-b2ea-d9a0027d1861",
   "metadata": {},
   "source": [
    "Estos serían las entradas que presentan los términos 'anterior segment image', 'image offset' y 'no fundus image'."
   ]
  },
  {
   "cell_type": "code",
   "execution_count": 31,
   "id": "4884e621-b147-4f97-96ff-c45e16b00051",
   "metadata": {},
   "outputs": [
    {
     "data": {
      "text/html": [
       "<div>\n",
       "<style scoped>\n",
       "    .dataframe tbody tr th:only-of-type {\n",
       "        vertical-align: middle;\n",
       "    }\n",
       "\n",
       "    .dataframe tbody tr th {\n",
       "        vertical-align: top;\n",
       "    }\n",
       "\n",
       "    .dataframe thead th {\n",
       "        text-align: right;\n",
       "    }\n",
       "</style>\n",
       "<table border=\"1\" class=\"dataframe\">\n",
       "  <thead>\n",
       "    <tr style=\"text-align: right;\">\n",
       "      <th></th>\n",
       "      <th>ID</th>\n",
       "      <th>Patient Age</th>\n",
       "      <th>Patient Sex</th>\n",
       "      <th>Left-Fundus</th>\n",
       "      <th>Right-Fundus</th>\n",
       "      <th>Left-Diagnostic Keywords</th>\n",
       "      <th>Right-Diagnostic Keywords</th>\n",
       "      <th>N</th>\n",
       "      <th>D</th>\n",
       "      <th>G</th>\n",
       "      <th>C</th>\n",
       "      <th>A</th>\n",
       "      <th>H</th>\n",
       "      <th>M</th>\n",
       "      <th>O</th>\n",
       "    </tr>\n",
       "  </thead>\n",
       "  <tbody>\n",
       "    <tr>\n",
       "      <th>1170</th>\n",
       "      <td>1243</td>\n",
       "      <td>81</td>\n",
       "      <td>Female</td>\n",
       "      <td>1243_left.jpg</td>\n",
       "      <td>1243_right.jpg</td>\n",
       "      <td>image offset</td>\n",
       "      <td>dry age-related macular degeneration，glaucoma</td>\n",
       "      <td>0</td>\n",
       "      <td>0</td>\n",
       "      <td>1</td>\n",
       "      <td>0</td>\n",
       "      <td>1</td>\n",
       "      <td>0</td>\n",
       "      <td>0</td>\n",
       "      <td>0</td>\n",
       "    </tr>\n",
       "    <tr>\n",
       "      <th>1461</th>\n",
       "      <td>1706</td>\n",
       "      <td>63</td>\n",
       "      <td>Female</td>\n",
       "      <td>1706_left.jpg</td>\n",
       "      <td>1706_right.jpg</td>\n",
       "      <td>anterior segment image</td>\n",
       "      <td>moderate non proliferative retinopathy，patholo...</td>\n",
       "      <td>0</td>\n",
       "      <td>1</td>\n",
       "      <td>0</td>\n",
       "      <td>0</td>\n",
       "      <td>0</td>\n",
       "      <td>0</td>\n",
       "      <td>1</td>\n",
       "      <td>0</td>\n",
       "    </tr>\n",
       "    <tr>\n",
       "      <th>1462</th>\n",
       "      <td>1710</td>\n",
       "      <td>62</td>\n",
       "      <td>Male</td>\n",
       "      <td>1710_left.jpg</td>\n",
       "      <td>1710_right.jpg</td>\n",
       "      <td>pathological myopia</td>\n",
       "      <td>anterior segment image</td>\n",
       "      <td>0</td>\n",
       "      <td>0</td>\n",
       "      <td>0</td>\n",
       "      <td>0</td>\n",
       "      <td>0</td>\n",
       "      <td>0</td>\n",
       "      <td>1</td>\n",
       "      <td>0</td>\n",
       "    </tr>\n",
       "    <tr>\n",
       "      <th>3408</th>\n",
       "      <td>4580</td>\n",
       "      <td>68</td>\n",
       "      <td>Male</td>\n",
       "      <td>4580_left.jpg</td>\n",
       "      <td>4580_right.jpg</td>\n",
       "      <td>no fundus image</td>\n",
       "      <td>mild nonproliferative retinopathy</td>\n",
       "      <td>0</td>\n",
       "      <td>1</td>\n",
       "      <td>0</td>\n",
       "      <td>0</td>\n",
       "      <td>0</td>\n",
       "      <td>0</td>\n",
       "      <td>0</td>\n",
       "      <td>0</td>\n",
       "    </tr>\n",
       "  </tbody>\n",
       "</table>\n",
       "</div>"
      ],
      "text/plain": [
       "        ID  Patient Age Patient Sex    Left-Fundus    Right-Fundus  \\\n",
       "1170  1243           81      Female  1243_left.jpg  1243_right.jpg   \n",
       "1461  1706           63      Female  1706_left.jpg  1706_right.jpg   \n",
       "1462  1710           62        Male  1710_left.jpg  1710_right.jpg   \n",
       "3408  4580           68        Male  4580_left.jpg  4580_right.jpg   \n",
       "\n",
       "     Left-Diagnostic Keywords  \\\n",
       "1170             image offset   \n",
       "1461   anterior segment image   \n",
       "1462      pathological myopia   \n",
       "3408          no fundus image   \n",
       "\n",
       "                              Right-Diagnostic Keywords  N  D  G  C  A  H  M  \\\n",
       "1170      dry age-related macular degeneration，glaucoma  0  0  1  0  1  0  0   \n",
       "1461  moderate non proliferative retinopathy，patholo...  0  1  0  0  0  0  1   \n",
       "1462                             anterior segment image  0  0  0  0  0  0  1   \n",
       "3408                  mild nonproliferative retinopathy  0  1  0  0  0  0  0   \n",
       "\n",
       "      O  \n",
       "1170  0  \n",
       "1461  0  \n",
       "1462  0  \n",
       "3408  0  "
      ]
     },
     "execution_count": 31,
     "metadata": {},
     "output_type": "execute_result"
    }
   ],
   "source": [
    "diagnostics = ['anterior segment image', 'image offset', 'no fundus image']\n",
    "regex = '|'.join(diagnostics)\n",
    "df[df['Left-Diagnostic Keywords'].str.contains(regex) | df['Right-Diagnostic Keywords'].str.contains(regex)]"
   ]
  },
  {
   "cell_type": "code",
   "execution_count": 32,
   "id": "7237bdb6",
   "metadata": {},
   "outputs": [],
   "source": [
    "# ??? Está hecho más antes con un gráfico\n",
    "#x =  df[['D','G','C','A','H','M','O']].sum(axis=1)\n",
    "#x.value_counts().sort_index()"
   ]
  },
  {
   "cell_type": "code",
   "execution_count": 33,
   "id": "fac69c17",
   "metadata": {},
   "outputs": [],
   "source": [
    "# ??? Esta info ya se muestra antes\n",
    "#df[\"Patient Age\"].describe()"
   ]
  },
  {
   "cell_type": "code",
   "execution_count": 34,
   "id": "1adb6e9e-01f9-4807-8b64-9f16e1af133b",
   "metadata": {},
   "outputs": [],
   "source": [
    "# ??? Este conteo también se muestra antes\n",
    "# print(df['Patient Sex'].value_counts())"
   ]
  },
  {
   "cell_type": "code",
   "execution_count": 35,
   "id": "3fca7ac3-f1cf-4eba-ae79-cc34cb8d2114",
   "metadata": {},
   "outputs": [],
   "source": [
    "## ??? Tengo dudas del t-test"
   ]
  },
  {
   "cell_type": "markdown",
   "id": "6f1217eb-ba09-41b5-95cc-0629123f5c37",
   "metadata": {},
   "source": [
    "#### Test estadístico de diferencia de edad según enfermedad\n",
    "\n",
    "Para cada enfermedad en la lista `diseases`:\n",
    "\n",
    "- Se separan las edades de los pacientes que **tienen** la enfermedad (`age_with`) y los que **no la tienen** (`age_without`).\n",
    "- Se realiza un test t de Student para muestras independientes y evaluar si las medias de edad difieren significativamente entre ambos grupos."
   ]
  },
  {
   "cell_type": "code",
   "execution_count": 36,
   "id": "261ae865-1a05-4a06-b779-7fca384aad26",
   "metadata": {},
   "outputs": [
    {
     "data": {
      "text/html": [
       "<div>\n",
       "<style scoped>\n",
       "    .dataframe tbody tr th:only-of-type {\n",
       "        vertical-align: middle;\n",
       "    }\n",
       "\n",
       "    .dataframe tbody tr th {\n",
       "        vertical-align: top;\n",
       "    }\n",
       "\n",
       "    .dataframe thead th {\n",
       "        text-align: right;\n",
       "    }\n",
       "</style>\n",
       "<table border=\"1\" class=\"dataframe\">\n",
       "  <thead>\n",
       "    <tr style=\"text-align: right;\">\n",
       "      <th></th>\n",
       "      <th>Enfermedad</th>\n",
       "      <th>p-valor</th>\n",
       "    </tr>\n",
       "  </thead>\n",
       "  <tbody>\n",
       "    <tr>\n",
       "      <th>0</th>\n",
       "      <td>D</td>\n",
       "      <td>3.202204e-07</td>\n",
       "    </tr>\n",
       "    <tr>\n",
       "      <th>1</th>\n",
       "      <td>G</td>\n",
       "      <td>2.394235e-08</td>\n",
       "    </tr>\n",
       "    <tr>\n",
       "      <th>2</th>\n",
       "      <td>C</td>\n",
       "      <td>3.318899e-23</td>\n",
       "    </tr>\n",
       "    <tr>\n",
       "      <th>3</th>\n",
       "      <td>A</td>\n",
       "      <td>5.023733e-04</td>\n",
       "    </tr>\n",
       "    <tr>\n",
       "      <th>4</th>\n",
       "      <td>H</td>\n",
       "      <td>4.224286e-02</td>\n",
       "    </tr>\n",
       "    <tr>\n",
       "      <th>5</th>\n",
       "      <td>M</td>\n",
       "      <td>6.172347e-01</td>\n",
       "    </tr>\n",
       "    <tr>\n",
       "      <th>6</th>\n",
       "      <td>O</td>\n",
       "      <td>2.755665e-05</td>\n",
       "    </tr>\n",
       "  </tbody>\n",
       "</table>\n",
       "</div>"
      ],
      "text/plain": [
       "  Enfermedad       p-valor\n",
       "0          D  3.202204e-07\n",
       "1          G  2.394235e-08\n",
       "2          C  3.318899e-23\n",
       "3          A  5.023733e-04\n",
       "4          H  4.224286e-02\n",
       "5          M  6.172347e-01\n",
       "6          O  2.755665e-05"
      ]
     },
     "execution_count": 36,
     "metadata": {},
     "output_type": "execute_result"
    }
   ],
   "source": [
    "age_results = []\n",
    "\n",
    "for disease in diseases:\n",
    "    age_with = df[df[disease] == 1]['Patient Age']\n",
    "    age_without = df[df[disease] == 0]['Patient Age']\n",
    "    t_stat, p = ttest_ind(age_with, age_without, equal_var=False)\n",
    "    age_results.append({'Enfermedad': disease, 'p-valor': p})\n",
    "\n",
    "pd.DataFrame(age_results)"
   ]
  },
  {
   "cell_type": "markdown",
   "id": "4de5ddfc-27aa-4994-bdf1-0ce85461e4d6",
   "metadata": {},
   "source": [
    "**Interpretación:**\n",
    "\n",
    "- Los p-valor muy bajos indican que hay diferencias estadísticamente significativas en la edad de pacientes entre los grupos con y sin la enfermedad.\n",
    "- En particular, las enfermedades **D, G, C, A, H y O** muestran diferencias significativas en edad.\n",
    "- La enfermedad **M** no muestra diferencia significativa (p > 0.05)."
   ]
  },
  {
   "cell_type": "code",
   "execution_count": null,
   "id": "3cdbe448-7926-4ead-9f16-8c44cb8ebf11",
   "metadata": {},
   "outputs": [],
   "source": []
  }
 ],
 "metadata": {
  "kernelspec": {
   "display_name": "Python 3 (ipykernel)",
   "language": "python",
   "name": "python3"
  },
  "language_info": {
   "codemirror_mode": {
    "name": "ipython",
    "version": 3
   },
   "file_extension": ".py",
   "mimetype": "text/x-python",
   "name": "python",
   "nbconvert_exporter": "python",
   "pygments_lexer": "ipython3",
   "version": "3.10.18"
  }
 },
 "nbformat": 4,
 "nbformat_minor": 5
}
