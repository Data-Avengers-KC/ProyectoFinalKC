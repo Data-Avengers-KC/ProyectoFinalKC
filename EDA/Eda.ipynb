{
 "cells": [
  {
   "cell_type": "markdown",
   "id": "19a5f5ac",
   "metadata": {},
   "source": [
    "prueba rama"
   ]
  }
 ],
 "metadata": {
  "language_info": {
   "name": "python"
  }
 },
 "nbformat": 4,
 "nbformat_minor": 5
}
