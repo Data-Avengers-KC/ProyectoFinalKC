{
 "cells": [
  {
   "cell_type": "markdown",
   "id": "a8ccfb81",
   "metadata": {},
   "source": [
    "### Datasets Tabulares:"
   ]
  },
  {
   "cell_type": "markdown",
   "id": "28bf4c74",
   "metadata": {},
   "source": [
    "| Nombre     | URL                          | Tamaño   |\n",
    "|------------|------------------------------|----------|\n",
    "| xxxx       | https://ejemplo.com/archivo  | 123 KB   |\n",
    "| ejemplo2   | https://otro.com/archivo2    | 456 KB   |\n",
    "| ejemplo3   | https://algo.com/archivo3    | 789 KB   |\n",
    "| ejemplo4   | https://algo.com/archivo4    | --- KB   |"
   ]
  },
  {
   "cell_type": "markdown",
   "id": "844865a6",
   "metadata": {},
   "source": [
    "### Datasets Img:"
   ]
  },
  {
   "cell_type": "markdown",
   "id": "335170f3",
   "metadata": {},
   "source": [
    "| Nombre     | URL                          | Tamaño   | Observación |\n",
    "|------------|------------------------------|----------|-----------|\n",
    "| DatasetIMG1    | https://www.kaggle.com/c/diabetic-retinopathy-detection/data   | 88.29 GB   | No descargado |\n",
    "| DatasetIMG2    | https://www.kaggle.com/c/aptos2019-blindness-detection/data    | 10.22 GB  | No descargado |\n",
    "| DatasetIMG3    | https://www.kaggle.com/datasets/mariaherrerot/aptos2019/data   | 8.6 GB  | No descargado |\n",
    "| DatasetIMG4    | https://idrid.grand-challenge.org/Segmentation/                | ??? GB  | Descargado |\n",
    "| DatasetIMG5    | https://idrid.grand-challenge.org/Grading/   | ??? GB  | Descargado |\n",
    "| DatasetIMG6    | https://idrid.grand-challenge.org/Localisation/   | ??? GB  | Descargado |\n",
    "| DatasetIMG7    | https://www.adcis.net/en/third-party/messidor/  | ??? GB  | Descargado |\n",
    "| DatasetIMG8    | https://www.adcis.net/en/third-party/messidor2/  | ??? GB  | No descargado |\n",
    "| DatasetIMG9    | https://zenodo.org/records/7105232  | ??? GB  | No descargado |\n",
    "| DatasetIMG10    | https://zenodo.org/records/7105232  | ??? GB  | No descargado |\n",
    "| DatasetIMG11    | https://www.kaggle.com/datasets/kmader/eye-oct-datasets  | ??? GB  | No descargado |\n",
    "| DatasetIMG12    | https://zenodo.org/records/7505822  | ??? GB  | No descargado |"
   ]
  },
  {
   "cell_type": "code",
   "execution_count": null,
   "id": "6915bcff-1190-4515-92e3-7a2645229d64",
   "metadata": {},
   "outputs": [],
   "source": []
  }
 ],
 "metadata": {
  "kernelspec": {
   "display_name": "Python 3 (ipykernel)",
   "language": "python",
   "name": "python3"
  },
  "language_info": {
   "codemirror_mode": {
    "name": "ipython",
    "version": 3
   },
   "file_extension": ".py",
   "mimetype": "text/x-python",
   "name": "python",
   "nbconvert_exporter": "python",
   "pygments_lexer": "ipython3",
   "version": "3.10.18"
  }
 },
 "nbformat": 4,
 "nbformat_minor": 5
}
