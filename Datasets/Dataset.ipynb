{
 "cells": [
  {
   "cell_type": "markdown",
   "id": "a8ccfb81",
   "metadata": {},
   "source": [
    "### Datasets Tabulares:"
   ]
  },
  {
   "cell_type": "markdown",
   "id": "28bf4c74",
   "metadata": {},
   "source": [
    "| Nombre     | URL                          | Tamaño   |\n",
    "|------------|------------------------------|----------|\n",
    "| xxxx       | https://ejemplo.com/archivo  | 123 KB   |\n",
    "| ejemplo2   | https://otro.com/archivo2    | 456 KB   |\n",
    "| ejemplo3   | https://algo.com/archivo3    | 789 KB   |\n",
    "| ejemplo4   | https://algo.com/archivo4    | --- KB   |"
   ]
  },
  {
   "cell_type": "markdown",
   "id": "844865a6",
   "metadata": {},
   "source": [
    "### Datasets Img:"
   ]
  },
  {
   "cell_type": "markdown",
   "id": "335170f3",
   "metadata": {},
   "source": [
    "| Nombre     | URL                          | Tamaño   | Observación |\n",
    "|------------|------------------------------|----------|-----------|\n",
    "| DatasetIMG1    | https://www.kaggle.com/c/diabetic-retinopathy-detection/data   | 88.29 GB   | No descargado |\n",
    "| DatasetIMG2    | https://www.kaggle.com/c/aptos2019-blindness-detection/data    | 10.22 GB  | No descargado |\n",
    "| DatasetIMG3    | https://www.kaggle.com/datasets/mariaherrerot/aptos2019/data   | 8.6 GB  | No descargado |"
   ]
  }
 ],
 "metadata": {
  "language_info": {
   "name": "python"
  }
 },
 "nbformat": 4,
 "nbformat_minor": 5
}
