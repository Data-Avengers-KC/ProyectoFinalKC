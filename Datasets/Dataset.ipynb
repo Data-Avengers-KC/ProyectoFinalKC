{
 "cells": [
  {
   "cell_type": "markdown",
   "id": "844865a6",
   "metadata": {},
   "source": [
    "### Datasets Img:"
   ]
  },
  {
   "cell_type": "markdown",
   "id": "9e83b989-c071-4a02-9095-e95309ec7af2",
   "metadata": {},
   "source": [
    "Dos tipos de imagenes en los datasets \n",
    "- 2D Fundus \n",
    "- 3D optical coherence tomography (OCT)\n",
    "\n",
    "Considerando únicamente imágenes 2D Fundus:\n",
    "\n",
    "- DR: Número de imágenes con anotación para Diabetic Retinopathy (0-1-3-4)\n",
    "- DME: Número de imágenes con anotación para Diabetic macular edema (0-1-2)\n",
    "- Unlabeled: Número de imágenes sin anotación ni DR ni DME\n"
   ]
  },
  {
   "cell_type": "markdown",
   "id": "a9da3901-e5e9-4a30-9b4d-f884aa42bb6d",
   "metadata": {},
   "source": [
    "| Estudio       | Tamaño |                                                                               DR (0-4)   | DME (0-2)   | Unlabeled   | Observaciones                                      | Descarga |\n",
    "|:----------------------------------------------------------------------------------------|:-----------------|:-----------------------------|:-------------------------------|:------------|:--------------------------------------------------|:----|\n",
    "| [Diabetic Retinopathy Detection](https://www.kaggle.com/c/diabetic-retinopathy-detection/data )          | 88.29 GB | 35126                        | 0                              | 53576       |                                                    | --- |\n",
    "| [APTOS 2019 Blindness Detection](https://www.kaggle.com/competitions/aptos2019-blindness-detection/data) | 10.22 GB |3662                         | 0                              | 1928        |                                                    | --- |\n",
    "| [APTOS-2019 dataset](https://www.kaggle.com/datasets/mariaherrerot/aptos2019/data)                   | 8.6 GB  | 3662                         | 0                              | 0           | Mismo dataset APTOS 2019 Blindness Detection | --- |\n",
    "| [IDRiD disease grading](https://idrid.grand-challenge.org/Grading/)                                  | ---    | 516                          | 516                            | 0           |                                                    | Si |\n",
    "| [IDRiD lesion segmentation](https://idrid.grand-challenge.org/Segmentation/)                        | ---  | 0                            | 0                              | 81          | Anotaciones a nivel pixel | Si |\n",
    "| [IDRiD localization](https://idrid.grand-challenge.org/Localisation/)                  | --- | 0                            | 0                              | 597         | Localizaciones de OD y fovea     | Si |\n",
    "| [Messidor](https://www.adcis.net/en/third-party/messidor/)                                  |---      | 1200                         | 1200                           | 0           | RD (0-3)<br>800 pupila dilatada + 400 sin dilatar<br>Alguna errata | Si |\n",
    "| [Messidor-2](https://www.adcis.net/en/third-party/messidor2/)                                   |---  | 0                            | 0                              | 1748        |                                                    | --- |\n",
    "| [RFMiD](https://zenodo.org/records/7505822)                                                         | 67.7 MB  | Test - 14 <br> Train - 42 <br> Validation  - 14                           | 0                              | 860         | Anotaciones para 51 enfermedades (Datos Binarios) incluye DR pero no DME <br> División Trainig (509 imgs), Validation (177 imgs) y Test (174 imgs)<br>  Metadatos: id y las 51 enfermedades (0-1)                     | Si |\n",
    "| [OLIVES](https://zenodo.org/records/7105232)                                                            | 49.1 GB | ?                            | ?                              | ?           | Usa optical coherence tomography (OCT)<br>El conjunto de datos consta de 1268 Imágenes del fondo de ojo, cada una con 49 tomografías de coherencia óptica (OCT) y 16 biomarcadores, además de 3 etiquetas clínicas y un diagnóstico de RD o EMD. En total, se incluyen datos de 96 ojos promediados durante un período de al menos dos años, con un promedio de 66 semanas de tratamiento por ojo y 7 inyecciones por ojo.                                     | Si |\n",
    "| [Eye OCT Datasets](https://www.kaggle.com/datasets/kmader/eye-oct-datasets)                            |---  | ?                            | ?                              | ?           | Usa optical coherence tomography (OCT)??                               |  ---|\n",
    "| [OCTDL](https://data.mendeley.com/datasets/sncdhf53xc/4)                            |392 MB  | -                            | 147                             | -           | Use optical coherence tomography <br> The dataset consists of the following categories and images:<br> Age-Related Macular Degeneration - 1231 images <br> Diabetic Macular Edema - 147 images <br> Epiretinal Membrane- 155 images<br> Normal - 332 images<br> Retinal Artery Occlusion - 22 images<br> Retinal Vein Occlusion - 101 images<br> Vitreomacular Interface Disease - 76 images.(OCT)<br> Metadatos: file_name,disease,subcategory,condition,patient_id,eye,sex,year,image_width,image_hight                        | Si |\n",
    "| [DIARETDB1](https://www.kaggle.com/datasets/nguyenhung1903/diaretdb1-standard-diabetic-retinopathy-database/data)                            |269.83 MB  | -                            | 147                             | -           | | Si |\n",
    "| [Messidor-Tab](https://archive.ics.uci.edu/dataset/329/diabetic+retinopathy+debrecen)                            |5.00 MB  | -                            |                              | -           | se puede importar libreria con features | Si |\n",
    "| [RIM-ONE-DL](https://drive.google.com/file/d/1teYi_smpLiNZNJcTWdxXgKKLW2fkUQr4/view)                            |212.00 MB  | -                            |                              | -           | 485 imágenes (313 normales, 172 glaucoma) | Si |\n",
    "| [ORIGA-light](https://auth.globus.org/p/login?response_type=code&client_id=89ba3e72-768f-4ddb-952d-e0bb7305e2c7&scope=urn%3Aglobus%3Aauth%3Ascope%3Aauth.globus.org%3Aview_identities+urn%3Aglobus%3Aauth%3Ascope%3Atransfer.api.globus.org%3Aall+urn%3Aglobus%3Aauth%3Ascope%3Asearch.api.globus.org%3Asearch+urn%3Aglobus%3Aauth%3Ascope%3Agroups.api.globus.org%3Aall&redirect_uri=%2Fv2%2Foauth2%2Fauthorize%3Fresponse_type%3Dcode%26client_id%3D89ba3e72-768f-4ddb-952d-e0bb7305e2c7%26scope%3Durn%253Aglobus%253Aauth%253Ascope%253Aauth.globus.org%253Aview_identities%2Burn%253Aglobus%253Aauth%253Ascope%253Atransfer.api.globus.org%253Aall%2Burn%253Aglobus%253Aauth%253Ascope%253Asearch.api.globus.org%253Asearch%2Burn%253Aglobus%253Aauth%253Ascope%253Agroups.api.globus.org%253Aall%26redirect_uri%3Dhttps%253A%252F%252Fapp.globus.org%252Fauthenticate%26state%3DTnOd9L03JG803YyU%26code_challenge%3DUlGd4KAdlo16rzQPSGLrtwU56AHpd5yBDFyoZuC2WTs%26code_challenge_method%3DS256&code_challenge=UlGd4KAdlo16rzQPSGLrtwU56AHpd5yBDFyoZuC2WTs&code_challenge_method=S256)                            |12.3GB  | -                            |                              | -           | The dataset includes 3 different files: 1) MESSIDOR dataset file contains 460 original images and 460 images for every single ophthalmologist manual marking in total of 3220 images for the entire file. 2) Bin Rushed Ophthalmic center file and contains 195 original images and 195 images for every single ophthalmologist manual marking in total of 1365 images for the entire file. 3) Magrabi Eye center file and contains 95 original images and 95 images for every single ophthalmologist manual marking in total of 665 images for the entire file. The total of all the dataset images are 750 original images and 4500 manual marked images. imagenes ojos normales y con glaucoma selección de diferentes datasets | Si |\n",
    "| [ODIR-5K](https://www.kaggle.com/datasets/ahmetselukkren/odir-5k-preprocessing-with-chale-and-esrgan/data)                            |6.68 GB | -                            |                              | -           | Normal (N),Diabetes (D),Glaucoma (G),Cataract (C),Age related Macular Degeneration (A),Hypertension & Hypertensive (H),Pathological Myopia (M),Other diseases/abnormalities (O) | Si |\n",
    "| [Chákṣu IMAGE](https://figshare.com/articles/dataset/Ch_k_u_A_glaucoma_specific_fundus_image_database/20123135?file=37875672)                            |10.56 GB | -                            |                              | -           | Chákṣu IMAGE consists of 1345 retinal fundus images stored in JPEG/PNG format, with 8 bits per color channel, acquired using three devices: Remidio non-mydriatic Fundus-on-Phone camera with a resolution of 2448×3264 pixels (1074 images), Forus 3Nethra Classic non-mydriatic fundus camera with a resolution of 2048×1536 pixels (126 images), and a Bosch handheld fundus camera with a resolution of 1920×1440 pixels (145 images). This is by far the largest Indian ethnicity-specific fundus image database. Most of the images acquired by these devices are OD-centered and particular to the assessment of OD and glaucoma | Si |"
   ]
  },
  {
   "cell_type": "markdown",
   "id": "b771b6ef-06f0-402a-b9f4-f3c2e3ffc07a",
   "metadata": {},
   "source": []
  }
 ],
 "metadata": {
  "kernelspec": {
   "display_name": "Python 3 (ipykernel)",
   "language": "python",
   "name": "python3"
  },
  "language_info": {
   "codemirror_mode": {
    "name": "ipython",
    "version": 3
   },
   "file_extension": ".py",
   "mimetype": "text/x-python",
   "name": "python",
   "nbconvert_exporter": "python",
   "pygments_lexer": "ipython3",
   "version": "3.10.18"
  }
 },
 "nbformat": 4,
 "nbformat_minor": 5
}
