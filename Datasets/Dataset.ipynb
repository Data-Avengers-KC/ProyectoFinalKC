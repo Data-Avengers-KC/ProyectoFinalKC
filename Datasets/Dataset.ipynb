{
 "cells": [
  {
   "cell_type": "markdown",
   "id": "844865a6",
   "metadata": {},
   "source": [
    "### Datasets Img:"
   ]
  },
  {
   "cell_type": "markdown",
   "id": "9e83b989-c071-4a02-9095-e95309ec7af2",
   "metadata": {},
   "source": [
    "Dos tipos de imagenes en los datasets \n",
    "- 2D Fundus \n",
    "- 3D optical coherence tomography (OCT)\n",
    "\n",
    "Considerando únicamente imágenes 2D Fundus:\n",
    "\n",
    "- DR: Número de imágenes con anotación para Diabetic Retinopathy (0-1-3-4)\n",
    "- DME: Número de imágenes con anotación para Diabetic macular edema (0-1-2)\n",
    "- Unlabeled: Número de imágenes sin anotación ni DR ni DME\n"
   ]
  },
  {
   "cell_type": "markdown",
   "id": "a9da3901-e5e9-4a30-9b4d-f884aa42bb6d",
   "metadata": {},
   "source": [
    "| Estudio       | Tamaño |                                                                               DR (0-4)   | DME (0-2)   | Unlabeled   | Observaciones                                      | Descarga |\n",
    "|:----------------------------------------------------------------------------------------|:-----------------|:-----------------------------|:-------------------------------|:------------|:--------------------------------------------------|:----|\n",
    "| [Diabetic Retinopathy Detection](https://www.kaggle.com/c/diabetic-retinopathy-detection/data )          | 88.29 GB | 35126                        | 0                              | 53576       |                                                    | --- |\n",
    "| [APTOS 2019 Blindness Detection](https://www.kaggle.com/competitions/aptos2019-blindness-detection/data) | 10.22 GB |3662                         | 0                              | 1928        |                                                    | --- |\n",
    "| [APTOS-2019 dataset](https://www.kaggle.com/datasets/mariaherrerot/aptos2019/data)                   | 8.6 GB  | 3662                         | 0                              | 0           | Mismo dataset APTOS 2019 Blindness Detection | --- |\n",
    "| [IDRiD disease grading](https://idrid.grand-challenge.org/Grading/)                                  | ---    | 516                          | 516                            | 0           |                                                    | Si |\n",
    "| [IDRiD lesion segmentation](https://idrid.grand-challenge.org/Segmentation/)                        | ---  | 0                            | 0                              | 81          | Anotaciones a nivel pixel | Si |\n",
    "| [IDRiD localization](https://idrid.grand-challenge.org/Localisation/)                  | --- | 0                            | 0                              | 597         | Localizaciones de OD y fovea     | Si |\n",
    "| [Messidor](https://www.adcis.net/en/third-party/messidor/)                                  |---      | 1200                         | 1200                           | 0           | RD (0-3)<br>800 pupila dilatada + 400 sin dilatar<br>Alguna errata | Si |\n",
    "| [Messidor-2](https://www.adcis.net/en/third-party/messidor2/)                                   |---  | 0                            | 0                              | 1748        |                                                    | --- |\n",
    "| [RFMiD](https://zenodo.org/records/7505822)                                                         | 67.7 MB  | 0                            | 0                              | 860         | Anotaciones para 51 enfermedades (Datos Binarios) incluye DR pero no DME <br> División Trainig (509 imgs), Validation (177 imgs) y Test (174 imgs)<br>  \n",
    "Metadatos: id y las 51 enfermedades (0-1)                     | Si |\n",
    "| [OLIVES](https://zenodo.org/records/7105232)                                                            | 49.1 GB | ?                            | ?                              | ?           | Usa optical coherence tomography (OCT)??                                     | Si |\n",
    "| [Eye OCT Datasets](https://www.kaggle.com/datasets/kmader/eye-oct-datasets)                            |---  | ?                            | ?                              | ?           | Usa optical coherence tomography (OCT)??                               |  ---|\n",
    "| [OCTDL](https://data.mendeley.com/datasets/sncdhf53xc/4)                            |392 MB  | ?                            | 147                             | ?           | Use optical coherence tomography <br> The dataset consists of the following categories and images:<br>\n",
    "- Age-Related Macular Degeneration - 1231 images; <br>\n",
    "- Diabetic Macular Edema - 147 images; <br>\n",
    "- Epiretinal Membrane- 155 images;<br>\n",
    "- Normal - 332 images;<br>\n",
    "- Retinal Artery Occlusion - 22 images;<br>\n",
    "- Retinal Vein Occlusion - 101 images;<br>\n",
    "- Vitreomacular Interface Disease - 76 images.(OCT)<br>    \n",
    "Metadatos: file_name,disease,subcategory,condition,patient_id,eye,sex,year,image_width,image_hight                        | Si |\n"
   ]
  },
  {
   "cell_type": "markdown",
   "id": "b771b6ef-06f0-402a-b9f4-f3c2e3ffc07a",
   "metadata": {},
   "source": []
  }
 ],
 "metadata": {
  "kernelspec": {
   "display_name": "Python 3 (ipykernel)",
   "language": "python",
   "name": "python3"
  },
  "language_info": {
   "codemirror_mode": {
    "name": "ipython",
    "version": 3
   },
   "file_extension": ".py",
   "mimetype": "text/x-python",
   "name": "python",
   "nbconvert_exporter": "python",
   "pygments_lexer": "ipython3",
   "version": "3.10.18"
  }
 },
 "nbformat": 4,
 "nbformat_minor": 5
}
