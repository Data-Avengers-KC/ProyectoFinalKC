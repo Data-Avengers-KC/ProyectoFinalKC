{
 "cells": [
  {
   "cell_type": "markdown",
   "id": "a8ccfb81",
   "metadata": {},
   "source": [
    "### Datasets Tabulares:"
   ]
  },
  {
   "cell_type": "markdown",
   "id": "28bf4c74",
   "metadata": {},
   "source": [
    "| Nombre     | URL                          | Tamaño   |\n",
    "|------------|------------------------------|----------|\n",
    "| xxxx       | https://ejemplo.com/archivo  | 123 KB   |\n",
    "| ejemplo2   | https://otro.com/archivo2    | 456 KB   |\n",
    "| ejemplo3   | https://algo.com/archivo3    | 789 KB   |"
   ]
  },
  {
   "cell_type": "markdown",
   "id": "844865a6",
   "metadata": {},
   "source": [
    "### Datasets Img:"
   ]
  },
  {
   "cell_type": "markdown",
   "id": "335170f3",
   "metadata": {},
   "source": [
    "| Nombre     | URL                          | Tamaño   |\n",
    "|------------|------------------------------|----------|\n",
    "| xxxx       | https://ejemplo.com/archivo  | 123 KB   |\n",
    "| ejemplo2   | https://otro.com/archivo2    | 456 KB   |\n",
    "| ejemplo3   | https://algo.com/archivo3    | 789 KB   |"
   ]
  }
 ],
 "metadata": {
  "language_info": {
   "name": "python"
  }
 },
 "nbformat": 4,
 "nbformat_minor": 5
}
